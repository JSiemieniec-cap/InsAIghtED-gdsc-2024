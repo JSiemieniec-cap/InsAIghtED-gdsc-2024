{
  "nbformat": 4,
  "nbformat_minor": 0,
  "metadata": {
    "colab": {
      "provenance": [],
      "gpuType": "T4"
    },
    "kernelspec": {
      "name": "python3",
      "display_name": "Python 3"
    },
    "language_info": {
      "name": "python"
    },
    "accelerator": "GPU"
  },
  "cells": [
    {
      "cell_type": "markdown",
      "source": [
        "# Install libraries"
      ],
      "metadata": {
        "id": "X7jlWElDMx73"
      }
    },
    {
      "cell_type": "code",
      "source": [
        "! pip install git+https://github.com/openai/whisper.git -q"
      ],
      "metadata": {
        "id": "qoPUaG5vM0cr"
      },
      "execution_count": null,
      "outputs": []
    },
    {
      "cell_type": "code",
      "source": [
        "! pip install pytube"
      ],
      "metadata": {
        "id": "zWou-lMVcmzU"
      },
      "execution_count": null,
      "outputs": []
    },
    {
      "cell_type": "code",
      "source": [
        "!pip install --upgrade pytube"
      ],
      "metadata": {
        "id": "4T-UdAIYl59W"
      },
      "execution_count": null,
      "outputs": []
    },
    {
      "cell_type": "code",
      "source": [
        "!pip install transformers sentencepiece"
      ],
      "metadata": {
        "id": "_7UlDkZxrixX"
      },
      "execution_count": null,
      "outputs": []
    },
    {
      "cell_type": "code",
      "source": [
        "! pip install pytubefix"
      ],
      "metadata": {
        "id": "-EJpIHZTbOZC"
      },
      "execution_count": null,
      "outputs": []
    },
    {
      "cell_type": "markdown",
      "source": [
        "# Set up the GPU and model size. It's necessary to use GPU for Whisper to run"
      ],
      "metadata": {
        "id": "7VP5245ebNAJ"
      }
    },
    {
      "cell_type": "code",
      "source": [
        "gpuorcpu = 'cuda' # cuda for gpu and cpu for cpu\n",
        "# IMPORTANT: Whisper needs gpu to run\n",
        "model_size = 'large' # large for gpu and small for cpu"
      ],
      "metadata": {
        "id": "6VE07aXFM1DY"
      },
      "execution_count": 6,
      "outputs": []
    },
    {
      "cell_type": "markdown",
      "source": [
        "## Load the model"
      ],
      "metadata": {
        "id": "tjqAC_Z8YSN5"
      }
    },
    {
      "cell_type": "code",
      "source": [
        "import whisper\n",
        "\n",
        "model = whisper.load_model(model_size) # large for gpu & small for cpu\n"
      ],
      "metadata": {
        "id": "uSFZ6KbyYWom"
      },
      "execution_count": null,
      "outputs": []
    },
    {
      "cell_type": "markdown",
      "source": [
        "## Check we have a gpu"
      ],
      "metadata": {
        "id": "uzblchnpYOHp"
      }
    },
    {
      "cell_type": "code",
      "source": [
        "model.device"
      ],
      "metadata": {
        "id": "_dXbLs7cOiA6",
        "colab": {
          "base_uri": "https://localhost:8080/"
        },
        "outputId": "592bc261-8ebf-449c-8efb-b443b15d49f1"
      },
      "execution_count": 8,
      "outputs": [
        {
          "output_type": "execute_result",
          "data": {
            "text/plain": [
              "device(type='cuda', index=0)"
            ]
          },
          "metadata": {},
          "execution_count": 8
        }
      ]
    },
    {
      "cell_type": "code",
      "source": [
        "import torch\n",
        "device = torch.device(gpuorcpu)\n",
        "model.to(device)"
      ],
      "metadata": {
        "id": "1D40-igBYQDE"
      },
      "execution_count": null,
      "outputs": []
    },
    {
      "cell_type": "markdown",
      "source": [
        "# Add path for storage, URL of youtube video and name prefix for the file"
      ],
      "metadata": {
        "id": "w-6As-qpao96"
      }
    },
    {
      "cell_type": "code",
      "source": [
        "whisper_path = './whisper'\n"
      ],
      "metadata": {
        "id": "c3pACjARZLl7"
      },
      "execution_count": 10,
      "outputs": []
    },
    {
      "cell_type": "code",
      "source": [
        "from pytube import YouTube\n",
        "import logging\n",
        "import os"
      ],
      "metadata": {
        "id": "C_KVYQNHbSZN"
      },
      "execution_count": 11,
      "outputs": []
    },
    {
      "cell_type": "code",
      "source": [
        "# Passing URL of the video we want get the transcribction of\n",
        "url = \"https://www.youtube.com/watch?v=wACy8bzeOAU\"\n",
        "\n",
        "# Passing the name prefix of the file\n",
        "name_prefix = \"What can we learn from PIRLS 2021?\"\n"
      ],
      "metadata": {
        "id": "OVJD9REBdWMr"
      },
      "execution_count": 12,
      "outputs": []
    },
    {
      "cell_type": "markdown",
      "source": [
        "# Run the Whisper"
      ],
      "metadata": {
        "id": "mZ6IlIS5bDn4"
      }
    },
    {
      "cell_type": "code",
      "source": [
        "from pytubefix import YouTube"
      ],
      "metadata": {
        "id": "3WO3PfZfoPHB"
      },
      "execution_count": 13,
      "outputs": []
    },
    {
      "cell_type": "code",
      "source": [
        "yt = YouTube(url)\n",
        "print(dir(yt))\n",
        "voice = yt.streams.filter(only_audio=True).first()\n",
        "yt_file = voice.download(output_path=whisper_path)"
      ],
      "metadata": {
        "id": "UMiOggAbd_Vo"
      },
      "execution_count": null,
      "outputs": []
    },
    {
      "cell_type": "code",
      "source": [
        "\n",
        "old_yt_file = yt_file\n",
        "yt_file = yt_file.replace(\"mp4\", \"mp3\")\n",
        "title = yt_file.split(\"/\")[-1]\n",
        "new_yt_file = yt_file.replace(title, f'{name_prefix}_{title}')\n",
        "os.rename(old_yt_file, new_yt_file)"
      ],
      "metadata": {
        "id": "COKCom0Me9G_"
      },
      "execution_count": 15,
      "outputs": []
    },
    {
      "cell_type": "code",
      "source": [
        "%%time\n",
        "result = model.transcribe(new_yt_file)"
      ],
      "metadata": {
        "id": "cx83flGQckDv"
      },
      "execution_count": null,
      "outputs": []
    },
    {
      "cell_type": "markdown",
      "source": [
        "# Test the result"
      ],
      "metadata": {
        "id": "SYBPpyFxakjp"
      }
    },
    {
      "cell_type": "code",
      "source": [
        "result['text']"
      ],
      "metadata": {
        "id": "1LhZu5PTkMZp"
      },
      "execution_count": null,
      "outputs": []
    }
  ]
}