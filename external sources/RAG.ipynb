{
 "cells": [
  {
   "cell_type": "markdown",
   "id": "048e340d-8bfe-4932-aaa6-f83bf3443de0",
   "metadata": {},
   "source": [
    "Install chromadb package"
   ]
  },
  {
   "cell_type": "code",
   "execution_count": null,
   "id": "8b9e9811-a779-4094-9873-8662efdf3084",
   "metadata": {
    "tags": []
   },
   "outputs": [],
   "source": [
    "!pip install chromadb==0.4.24"
   ]
  },
  {
   "cell_type": "code",
   "execution_count": 1,
   "id": "7c7b9de6-7fa0-4339-a3f1-8feeee338f49",
   "metadata": {
    "tags": []
   },
   "outputs": [],
   "source": [
    "#import default embedding model from chromadb\n",
    "from chromadb.utils import embedding_functions\n",
    "default_ef = embedding_functions.DefaultEmbeddingFunction()"
   ]
  },
  {
   "cell_type": "code",
   "execution_count": 2,
   "id": "39a46310-17a8-4ff8-9805-b04cd02a66ca",
   "metadata": {
    "tags": []
   },
   "outputs": [
    {
     "name": "stderr",
     "output_type": "stream",
     "text": [
      "⚠️ It looks like you upgraded from a version below 0.6 and could benefit from vacuuming your database. Run chromadb utils vacuum --help for more information.\n"
     ]
    }
   ],
   "source": [
    "#create vector store and create collections\n",
    "import chromadb\n",
    "client = chromadb.PersistentClient(path=\"./rag/collections_1\")\n",
    "collection = client.get_or_create_collection(name=\"pirls_2021\", embedding_function=default_ef)"
   ]
  },
  {
   "cell_type": "code",
   "execution_count": 7,
   "id": "bb2d9062-b06a-48d1-820a-d87502e704d1",
   "metadata": {
    "tags": []
   },
   "outputs": [],
   "source": [
    "#connect to s3 bucket and download files\n",
    "import boto3\n",
    "s3 = boto3.resource('s3')\n",
    "response = s3.meta.client.get_object(Bucket=\"gdsc-bucket-058264313357\", Key='web_data/PIRLS 2021– Findings.txt')\n",
    "response_2 = s3.meta.client.get_object(Bucket=\"gdsc-bucket-058264313357\", Key='web_data/What can we learn from PIRLS 2021.txt')"
   ]
  },
  {
   "cell_type": "code",
   "execution_count": 143,
   "id": "118fb6fa-9cd6-4106-b47a-e0c510d6dcee",
   "metadata": {
    "tags": []
   },
   "outputs": [],
   "source": [
    "pirls_findings = response['Body'].read().decode(\"utf-8\")\n",
    "learn_from_pirls = response_2['Body'].read().decode(\"utf-8\")"
   ]
  },
  {
   "cell_type": "code",
   "execution_count": 144,
   "id": "66cd5a88-678b-42bf-a89c-e7a8eafc00bc",
   "metadata": {
    "tags": []
   },
   "outputs": [],
   "source": [
    "from langchain_text_splitters import RecursiveCharacterTextSplitter\n",
    "\n",
    "\n",
    "#Initialize Text Splitter from LangChain to Split Large Documents into Smaller Pieces \n",
    "text_splitter = RecursiveCharacterTextSplitter(\n",
    "    chunk_size=1500,\n",
    "    chunk_overlap=300,\n",
    "    length_function=len,\n",
    "    is_separator_regex=False,\n",
    ")\n",
    "\n",
    "# Load document pirls_findings, split it to smaller chunks and load it to vector database\n",
    "texts = text_splitter.create_documents([pirls_findings])\n",
    "collection.add(\n",
    "    documents=[text.page_content for text in texts],\n",
    "    metadatas=[{'source': \"PIRLS 2021– Findings.txt\"} for x in range(0,len(texts))],\n",
    "    ids = [\"pirls_findings_\"+str(x) for x in range(0,len(texts))]\n",
    ")"
   ]
  },
  {
   "cell_type": "code",
   "execution_count": 145,
   "id": "43ab9779-6a95-4f1e-b176-2aaf9804dfe3",
   "metadata": {
    "tags": []
   },
   "outputs": [],
   "source": [
    "# Load document learn_from_pirls, split it to smaller chunks and load it to vector database\n",
    "texts = text_splitter.create_documents([learn_from_pirls])\n",
    "collection.add(\n",
    "    documents=[text.page_content for text in texts],\n",
    "    metadatas=[{'source': \"What can we learn from PIRLS 2021.txt\"} for x in range(0,len(texts))],\n",
    "    ids = [\"learn_from_pirls_\"+str(x) for x in range(0,len(texts))]\n",
    ")"
   ]
  },
  {
   "cell_type": "code",
   "execution_count": 15,
   "id": "5f309cdf-cd6b-40d7-9de8-a780fdf207a4",
   "metadata": {
    "tags": []
   },
   "outputs": [],
   "source": [
    "#Upload RAG collection to s3 for access by multiple models, allowing a single store to be shared across models\n",
    "import glob\n",
    "source_path = 'rag/collections_1'\n",
    "files = [x for x in glob.glob(source_path +'/**', recursive=True) if \".\" in x]\n",
    "for file in files:\n",
    "    s3.meta.client.upload_file(file, \"gdsc-bucket-058264313357\", file)"
   ]
  }
 ],
 "metadata": {
  "kernelspec": {
   "display_name": "conda_python3",
   "language": "python",
   "name": "conda_python3"
  },
  "language_info": {
   "codemirror_mode": {
    "name": "ipython",
    "version": 3
   },
   "file_extension": ".py",
   "mimetype": "text/x-python",
   "name": "python",
   "nbconvert_exporter": "python",
   "pygments_lexer": "ipython3",
   "version": "3.10.15"
  }
 },
 "nbformat": 4,
 "nbformat_minor": 5
}
