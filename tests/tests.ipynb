{
 "cells": [
  {
   "cell_type": "code",
   "execution_count": 1,
   "id": "cc03622b-b58e-45fb-bf32-858795377c0c",
   "metadata": {},
   "outputs": [],
   "source": [
    "#This file contains tests covering the main functionality."
   ]
  },
  {
   "cell_type": "code",
   "execution_count": 2,
   "id": "cb1d5e1c-16fe-40d4-be0c-cdda0af4fbc6",
   "metadata": {
    "scrolled": true,
    "tags": []
   },
   "outputs": [
    {
     "name": "stdout",
     "output_type": "stream",
     "text": [
      "Requirement already satisfied: uvicorn==0.30.1 in /home/ec2-user/anaconda3/envs/pytorch_p310/lib/python3.10/site-packages (from -r ../requirements.txt (line 1)) (0.30.1)\n",
      "Requirement already satisfied: fastapi==0.110.3 in /home/ec2-user/anaconda3/envs/pytorch_p310/lib/python3.10/site-packages (from -r ../requirements.txt (line 2)) (0.110.3)\n",
      "Requirement already satisfied: python-dotenv==1.0.0 in /home/ec2-user/anaconda3/envs/pytorch_p310/lib/python3.10/site-packages (from -r ../requirements.txt (line 3)) (1.0.0)\n",
      "Requirement already satisfied: crewai==0.51.1 in /home/ec2-user/anaconda3/envs/pytorch_p310/lib/python3.10/site-packages (from -r ../requirements.txt (line 4)) (0.51.1)\n",
      "Requirement already satisfied: langchain==0.2.15 in /home/ec2-user/anaconda3/envs/pytorch_p310/lib/python3.10/site-packages (from -r ../requirements.txt (line 5)) (0.2.15)\n",
      "Requirement already satisfied: langchain-aws==0.1.17 in /home/ec2-user/anaconda3/envs/pytorch_p310/lib/python3.10/site-packages (from -r ../requirements.txt (line 6)) (0.1.17)\n",
      "Requirement already satisfied: sqlalchemy==2.0.31 in /home/ec2-user/anaconda3/envs/pytorch_p310/lib/python3.10/site-packages (from -r ../requirements.txt (line 7)) (2.0.31)\n",
      "Requirement already satisfied: tiktoken==0.7.0 in /home/ec2-user/anaconda3/envs/pytorch_p310/lib/python3.10/site-packages (from -r ../requirements.txt (line 8)) (0.7.0)\n",
      "Requirement already satisfied: pydantic==2.8.2 in /home/ec2-user/anaconda3/envs/pytorch_p310/lib/python3.10/site-packages (from -r ../requirements.txt (line 9)) (2.8.2)\n",
      "Requirement already satisfied: durationpy==0.6 in /home/ec2-user/anaconda3/envs/pytorch_p310/lib/python3.10/site-packages (from -r ../requirements.txt (line 10)) (0.6)\n",
      "Requirement already satisfied: async-timeout==4.0.3 in /home/ec2-user/anaconda3/envs/pytorch_p310/lib/python3.10/site-packages (from -r ../requirements.txt (line 11)) (4.0.3)\n",
      "Requirement already satisfied: psycopg2-binary==2.9.9 in /home/ec2-user/anaconda3/envs/pytorch_p310/lib/python3.10/site-packages (from -r ../requirements.txt (line 12)) (2.9.9)\n",
      "Requirement already satisfied: anthropic==0.30.1 in /home/ec2-user/anaconda3/envs/pytorch_p310/lib/python3.10/site-packages (from -r ../requirements.txt (line 13)) (0.30.1)\n",
      "Requirement already satisfied: duckduckgo-search==6.3.2 in /home/ec2-user/anaconda3/envs/pytorch_p310/lib/python3.10/site-packages (from -r ../requirements.txt (line 14)) (6.3.2)\n",
      "Requirement already satisfied: chromadb==0.4.24 in /home/ec2-user/anaconda3/envs/pytorch_p310/lib/python3.10/site-packages (from -r ../requirements.txt (line 15)) (0.4.24)\n",
      "Requirement already satisfied: click>=7.0 in /home/ec2-user/anaconda3/envs/pytorch_p310/lib/python3.10/site-packages (from uvicorn==0.30.1->-r ../requirements.txt (line 1)) (8.1.7)\n",
      "Requirement already satisfied: h11>=0.8 in /home/ec2-user/anaconda3/envs/pytorch_p310/lib/python3.10/site-packages (from uvicorn==0.30.1->-r ../requirements.txt (line 1)) (0.14.0)\n",
      "Requirement already satisfied: typing-extensions>=4.0 in /home/ec2-user/anaconda3/envs/pytorch_p310/lib/python3.10/site-packages (from uvicorn==0.30.1->-r ../requirements.txt (line 1)) (4.12.2)\n",
      "Requirement already satisfied: starlette<0.38.0,>=0.37.2 in /home/ec2-user/anaconda3/envs/pytorch_p310/lib/python3.10/site-packages (from fastapi==0.110.3->-r ../requirements.txt (line 2)) (0.37.2)\n",
      "Requirement already satisfied: appdirs<2.0.0,>=1.4.4 in /home/ec2-user/anaconda3/envs/pytorch_p310/lib/python3.10/site-packages (from crewai==0.51.1->-r ../requirements.txt (line 4)) (1.4.4)\n",
      "Requirement already satisfied: embedchain<0.2.0,>=0.1.114 in /home/ec2-user/anaconda3/envs/pytorch_p310/lib/python3.10/site-packages (from crewai==0.51.1->-r ../requirements.txt (line 4)) (0.1.122)\n",
      "Requirement already satisfied: instructor==1.3.3 in /home/ec2-user/anaconda3/envs/pytorch_p310/lib/python3.10/site-packages (from crewai==0.51.1->-r ../requirements.txt (line 4)) (1.3.3)\n",
      "Requirement already satisfied: json-repair<0.26.0,>=0.25.2 in /home/ec2-user/anaconda3/envs/pytorch_p310/lib/python3.10/site-packages (from crewai==0.51.1->-r ../requirements.txt (line 4)) (0.25.3)\n",
      "Requirement already satisfied: jsonref<2.0.0,>=1.1.0 in /home/ec2-user/anaconda3/envs/pytorch_p310/lib/python3.10/site-packages (from crewai==0.51.1->-r ../requirements.txt (line 4)) (1.1.0)\n",
      "Requirement already satisfied: openai<2.0.0,>=1.13.3 in /home/ec2-user/anaconda3/envs/pytorch_p310/lib/python3.10/site-packages (from crewai==0.51.1->-r ../requirements.txt (line 4)) (1.54.3)\n",
      "Requirement already satisfied: opentelemetry-api<2.0.0,>=1.22.0 in /home/ec2-user/anaconda3/envs/pytorch_p310/lib/python3.10/site-packages (from crewai==0.51.1->-r ../requirements.txt (line 4)) (1.28.1)\n",
      "Requirement already satisfied: opentelemetry-exporter-otlp-proto-http<2.0.0,>=1.22.0 in /home/ec2-user/anaconda3/envs/pytorch_p310/lib/python3.10/site-packages (from crewai==0.51.1->-r ../requirements.txt (line 4)) (1.28.1)\n",
      "Requirement already satisfied: opentelemetry-sdk<2.0.0,>=1.22.0 in /home/ec2-user/anaconda3/envs/pytorch_p310/lib/python3.10/site-packages (from crewai==0.51.1->-r ../requirements.txt (line 4)) (1.28.1)\n",
      "Requirement already satisfied: regex<2024.0.0,>=2023.12.25 in /home/ec2-user/anaconda3/envs/pytorch_p310/lib/python3.10/site-packages (from crewai==0.51.1->-r ../requirements.txt (line 4)) (2023.12.25)\n",
      "Requirement already satisfied: PyYAML>=5.3 in /home/ec2-user/anaconda3/envs/pytorch_p310/lib/python3.10/site-packages (from langchain==0.2.15->-r ../requirements.txt (line 5)) (6.0.2)\n",
      "Requirement already satisfied: aiohttp<4.0.0,>=3.8.3 in /home/ec2-user/anaconda3/envs/pytorch_p310/lib/python3.10/site-packages (from langchain==0.2.15->-r ../requirements.txt (line 5)) (3.10.10)\n",
      "Requirement already satisfied: langchain-core<0.3.0,>=0.2.35 in /home/ec2-user/anaconda3/envs/pytorch_p310/lib/python3.10/site-packages (from langchain==0.2.15->-r ../requirements.txt (line 5)) (0.2.43)\n",
      "Requirement already satisfied: langchain-text-splitters<0.3.0,>=0.2.0 in /home/ec2-user/anaconda3/envs/pytorch_p310/lib/python3.10/site-packages (from langchain==0.2.15->-r ../requirements.txt (line 5)) (0.2.4)\n",
      "Requirement already satisfied: langsmith<0.2.0,>=0.1.17 in /home/ec2-user/anaconda3/envs/pytorch_p310/lib/python3.10/site-packages (from langchain==0.2.15->-r ../requirements.txt (line 5)) (0.1.142)\n",
      "Requirement already satisfied: numpy<2,>=1 in /home/ec2-user/anaconda3/envs/pytorch_p310/lib/python3.10/site-packages (from langchain==0.2.15->-r ../requirements.txt (line 5)) (1.26.4)\n",
      "Requirement already satisfied: requests<3,>=2 in /home/ec2-user/anaconda3/envs/pytorch_p310/lib/python3.10/site-packages (from langchain==0.2.15->-r ../requirements.txt (line 5)) (2.32.3)\n",
      "Requirement already satisfied: tenacity!=8.4.0,<9.0.0,>=8.1.0 in /home/ec2-user/anaconda3/envs/pytorch_p310/lib/python3.10/site-packages (from langchain==0.2.15->-r ../requirements.txt (line 5)) (8.5.0)\n",
      "Requirement already satisfied: boto3<1.35.0,>=1.34.131 in /home/ec2-user/anaconda3/envs/pytorch_p310/lib/python3.10/site-packages (from langchain-aws==0.1.17->-r ../requirements.txt (line 6)) (1.34.162)\n",
      "Requirement already satisfied: greenlet!=0.4.17 in /home/ec2-user/anaconda3/envs/pytorch_p310/lib/python3.10/site-packages (from sqlalchemy==2.0.31->-r ../requirements.txt (line 7)) (3.1.1)\n",
      "Requirement already satisfied: annotated-types>=0.4.0 in /home/ec2-user/anaconda3/envs/pytorch_p310/lib/python3.10/site-packages (from pydantic==2.8.2->-r ../requirements.txt (line 9)) (0.7.0)\n",
      "Requirement already satisfied: pydantic-core==2.20.1 in /home/ec2-user/anaconda3/envs/pytorch_p310/lib/python3.10/site-packages (from pydantic==2.8.2->-r ../requirements.txt (line 9)) (2.20.1)\n",
      "Requirement already satisfied: anyio<5,>=3.5.0 in /home/ec2-user/anaconda3/envs/pytorch_p310/lib/python3.10/site-packages (from anthropic==0.30.1->-r ../requirements.txt (line 13)) (4.6.2.post1)\n",
      "Requirement already satisfied: distro<2,>=1.7.0 in /home/ec2-user/anaconda3/envs/pytorch_p310/lib/python3.10/site-packages (from anthropic==0.30.1->-r ../requirements.txt (line 13)) (1.9.0)\n",
      "Requirement already satisfied: httpx<1,>=0.23.0 in /home/ec2-user/anaconda3/envs/pytorch_p310/lib/python3.10/site-packages (from anthropic==0.30.1->-r ../requirements.txt (line 13)) (0.27.2)\n",
      "Requirement already satisfied: jiter<1,>=0.4.0 in /home/ec2-user/anaconda3/envs/pytorch_p310/lib/python3.10/site-packages (from anthropic==0.30.1->-r ../requirements.txt (line 13)) (0.4.2)\n",
      "Requirement already satisfied: sniffio in /home/ec2-user/anaconda3/envs/pytorch_p310/lib/python3.10/site-packages (from anthropic==0.30.1->-r ../requirements.txt (line 13)) (1.3.1)\n",
      "Requirement already satisfied: tokenizers>=0.13.0 in /home/ec2-user/anaconda3/envs/pytorch_p310/lib/python3.10/site-packages (from anthropic==0.30.1->-r ../requirements.txt (line 13)) (0.20.3)\n",
      "Requirement already satisfied: primp>=0.6.4 in /home/ec2-user/anaconda3/envs/pytorch_p310/lib/python3.10/site-packages (from duckduckgo-search==6.3.2->-r ../requirements.txt (line 14)) (0.7.0)\n",
      "Requirement already satisfied: build>=1.0.3 in /home/ec2-user/anaconda3/envs/pytorch_p310/lib/python3.10/site-packages (from chromadb==0.4.24->-r ../requirements.txt (line 15)) (1.2.2.post1)\n",
      "Requirement already satisfied: chroma-hnswlib==0.7.3 in /home/ec2-user/anaconda3/envs/pytorch_p310/lib/python3.10/site-packages (from chromadb==0.4.24->-r ../requirements.txt (line 15)) (0.7.3)\n",
      "Requirement already satisfied: posthog>=2.4.0 in /home/ec2-user/anaconda3/envs/pytorch_p310/lib/python3.10/site-packages (from chromadb==0.4.24->-r ../requirements.txt (line 15)) (3.7.0)\n",
      "Requirement already satisfied: pulsar-client>=3.1.0 in /home/ec2-user/anaconda3/envs/pytorch_p310/lib/python3.10/site-packages (from chromadb==0.4.24->-r ../requirements.txt (line 15)) (3.5.0)\n",
      "Requirement already satisfied: onnxruntime>=1.14.1 in /home/ec2-user/anaconda3/envs/pytorch_p310/lib/python3.10/site-packages (from chromadb==0.4.24->-r ../requirements.txt (line 15)) (1.16.3)\n",
      "Requirement already satisfied: opentelemetry-exporter-otlp-proto-grpc>=1.2.0 in /home/ec2-user/anaconda3/envs/pytorch_p310/lib/python3.10/site-packages (from chromadb==0.4.24->-r ../requirements.txt (line 15)) (1.28.1)\n",
      "Requirement already satisfied: opentelemetry-instrumentation-fastapi>=0.41b0 in /home/ec2-user/anaconda3/envs/pytorch_p310/lib/python3.10/site-packages (from chromadb==0.4.24->-r ../requirements.txt (line 15)) (0.49b1)\n",
      "Requirement already satisfied: pypika>=0.48.9 in /home/ec2-user/anaconda3/envs/pytorch_p310/lib/python3.10/site-packages (from chromadb==0.4.24->-r ../requirements.txt (line 15)) (0.48.9)\n",
      "Requirement already satisfied: tqdm>=4.65.0 in /home/ec2-user/anaconda3/envs/pytorch_p310/lib/python3.10/site-packages (from chromadb==0.4.24->-r ../requirements.txt (line 15)) (4.66.5)\n",
      "Requirement already satisfied: overrides>=7.3.1 in /home/ec2-user/anaconda3/envs/pytorch_p310/lib/python3.10/site-packages (from chromadb==0.4.24->-r ../requirements.txt (line 15)) (7.7.0)\n",
      "Requirement already satisfied: importlib-resources in /home/ec2-user/anaconda3/envs/pytorch_p310/lib/python3.10/site-packages (from chromadb==0.4.24->-r ../requirements.txt (line 15)) (6.4.5)\n",
      "Requirement already satisfied: grpcio>=1.58.0 in /home/ec2-user/anaconda3/envs/pytorch_p310/lib/python3.10/site-packages (from chromadb==0.4.24->-r ../requirements.txt (line 15)) (1.67.1)\n",
      "Requirement already satisfied: bcrypt>=4.0.1 in /home/ec2-user/anaconda3/envs/pytorch_p310/lib/python3.10/site-packages (from chromadb==0.4.24->-r ../requirements.txt (line 15)) (4.2.0)\n",
      "Requirement already satisfied: typer>=0.9.0 in /home/ec2-user/anaconda3/envs/pytorch_p310/lib/python3.10/site-packages (from chromadb==0.4.24->-r ../requirements.txt (line 15)) (0.13.0)\n",
      "Requirement already satisfied: kubernetes>=28.1.0 in /home/ec2-user/anaconda3/envs/pytorch_p310/lib/python3.10/site-packages (from chromadb==0.4.24->-r ../requirements.txt (line 15)) (30.1.0)\n",
      "Requirement already satisfied: mmh3>=4.0.1 in /home/ec2-user/anaconda3/envs/pytorch_p310/lib/python3.10/site-packages (from chromadb==0.4.24->-r ../requirements.txt (line 15)) (5.0.1)\n",
      "Requirement already satisfied: orjson>=3.9.12 in /home/ec2-user/anaconda3/envs/pytorch_p310/lib/python3.10/site-packages (from chromadb==0.4.24->-r ../requirements.txt (line 15)) (3.10.11)\n",
      "Requirement already satisfied: docstring-parser<0.17,>=0.16 in /home/ec2-user/anaconda3/envs/pytorch_p310/lib/python3.10/site-packages (from instructor==1.3.3->crewai==0.51.1->-r ../requirements.txt (line 4)) (0.16)\n",
      "Requirement already satisfied: rich<14.0.0,>=13.7.0 in /home/ec2-user/anaconda3/envs/pytorch_p310/lib/python3.10/site-packages (from instructor==1.3.3->crewai==0.51.1->-r ../requirements.txt (line 4)) (13.9.3)\n",
      "Requirement already satisfied: aiohappyeyeballs>=2.3.0 in /home/ec2-user/anaconda3/envs/pytorch_p310/lib/python3.10/site-packages (from aiohttp<4.0.0,>=3.8.3->langchain==0.2.15->-r ../requirements.txt (line 5)) (2.4.3)\n",
      "Requirement already satisfied: aiosignal>=1.1.2 in /home/ec2-user/anaconda3/envs/pytorch_p310/lib/python3.10/site-packages (from aiohttp<4.0.0,>=3.8.3->langchain==0.2.15->-r ../requirements.txt (line 5)) (1.3.1)\n",
      "Requirement already satisfied: attrs>=17.3.0 in /home/ec2-user/anaconda3/envs/pytorch_p310/lib/python3.10/site-packages (from aiohttp<4.0.0,>=3.8.3->langchain==0.2.15->-r ../requirements.txt (line 5)) (23.2.0)\n",
      "Requirement already satisfied: frozenlist>=1.1.1 in /home/ec2-user/anaconda3/envs/pytorch_p310/lib/python3.10/site-packages (from aiohttp<4.0.0,>=3.8.3->langchain==0.2.15->-r ../requirements.txt (line 5)) (1.5.0)\n",
      "Requirement already satisfied: multidict<7.0,>=4.5 in /home/ec2-user/anaconda3/envs/pytorch_p310/lib/python3.10/site-packages (from aiohttp<4.0.0,>=3.8.3->langchain==0.2.15->-r ../requirements.txt (line 5)) (6.1.0)\n",
      "Requirement already satisfied: yarl<2.0,>=1.12.0 in /home/ec2-user/anaconda3/envs/pytorch_p310/lib/python3.10/site-packages (from aiohttp<4.0.0,>=3.8.3->langchain==0.2.15->-r ../requirements.txt (line 5)) (1.17.1)\n",
      "Requirement already satisfied: idna>=2.8 in /home/ec2-user/anaconda3/envs/pytorch_p310/lib/python3.10/site-packages (from anyio<5,>=3.5.0->anthropic==0.30.1->-r ../requirements.txt (line 13)) (3.10)\n",
      "Requirement already satisfied: exceptiongroup>=1.0.2 in /home/ec2-user/anaconda3/envs/pytorch_p310/lib/python3.10/site-packages (from anyio<5,>=3.5.0->anthropic==0.30.1->-r ../requirements.txt (line 13)) (1.2.2)\n",
      "Requirement already satisfied: botocore<1.35.0,>=1.34.162 in /home/ec2-user/anaconda3/envs/pytorch_p310/lib/python3.10/site-packages (from boto3<1.35.0,>=1.34.131->langchain-aws==0.1.17->-r ../requirements.txt (line 6)) (1.34.162)\n",
      "Requirement already satisfied: jmespath<2.0.0,>=0.7.1 in /home/ec2-user/anaconda3/envs/pytorch_p310/lib/python3.10/site-packages (from boto3<1.35.0,>=1.34.131->langchain-aws==0.1.17->-r ../requirements.txt (line 6)) (1.0.1)\n",
      "Requirement already satisfied: s3transfer<0.11.0,>=0.10.0 in /home/ec2-user/anaconda3/envs/pytorch_p310/lib/python3.10/site-packages (from boto3<1.35.0,>=1.34.131->langchain-aws==0.1.17->-r ../requirements.txt (line 6)) (0.10.3)\n",
      "Requirement already satisfied: packaging>=19.1 in /home/ec2-user/anaconda3/envs/pytorch_p310/lib/python3.10/site-packages (from build>=1.0.3->chromadb==0.4.24->-r ../requirements.txt (line 15)) (24.2)\n",
      "Requirement already satisfied: pyproject_hooks in /home/ec2-user/anaconda3/envs/pytorch_p310/lib/python3.10/site-packages (from build>=1.0.3->chromadb==0.4.24->-r ../requirements.txt (line 15)) (1.2.0)\n",
      "Requirement already satisfied: tomli>=1.1.0 in /home/ec2-user/anaconda3/envs/pytorch_p310/lib/python3.10/site-packages (from build>=1.0.3->chromadb==0.4.24->-r ../requirements.txt (line 15)) (2.0.2)\n",
      "Requirement already satisfied: alembic<2.0.0,>=1.13.1 in /home/ec2-user/anaconda3/envs/pytorch_p310/lib/python3.10/site-packages (from embedchain<0.2.0,>=0.1.114->crewai==0.51.1->-r ../requirements.txt (line 4)) (1.13.3)\n",
      "Requirement already satisfied: beautifulsoup4<5.0.0,>=4.12.2 in /home/ec2-user/anaconda3/envs/pytorch_p310/lib/python3.10/site-packages (from embedchain<0.2.0,>=0.1.114->crewai==0.51.1->-r ../requirements.txt (line 4)) (4.12.3)\n",
      "Requirement already satisfied: cohere<6.0,>=5.3 in /home/ec2-user/anaconda3/envs/pytorch_p310/lib/python3.10/site-packages (from embedchain<0.2.0,>=0.1.114->crewai==0.51.1->-r ../requirements.txt (line 4)) (5.11.3)\n",
      "Requirement already satisfied: google-cloud-aiplatform<2.0.0,>=1.26.1 in /home/ec2-user/anaconda3/envs/pytorch_p310/lib/python3.10/site-packages (from embedchain<0.2.0,>=0.1.114->crewai==0.51.1->-r ../requirements.txt (line 4)) (1.71.1)\n",
      "Requirement already satisfied: gptcache<0.2.0,>=0.1.43 in /home/ec2-user/anaconda3/envs/pytorch_p310/lib/python3.10/site-packages (from embedchain<0.2.0,>=0.1.114->crewai==0.51.1->-r ../requirements.txt (line 4)) (0.1.44)\n",
      "Requirement already satisfied: langchain-cohere<0.2.0,>=0.1.4 in /home/ec2-user/anaconda3/envs/pytorch_p310/lib/python3.10/site-packages (from embedchain<0.2.0,>=0.1.114->crewai==0.51.1->-r ../requirements.txt (line 4)) (0.1.9)\n",
      "Requirement already satisfied: langchain-community<0.3.0,>=0.2.6 in /home/ec2-user/anaconda3/envs/pytorch_p310/lib/python3.10/site-packages (from embedchain<0.2.0,>=0.1.114->crewai==0.51.1->-r ../requirements.txt (line 4)) (0.2.15)\n",
      "Requirement already satisfied: langchain-openai<0.2.0,>=0.1.7 in /home/ec2-user/anaconda3/envs/pytorch_p310/lib/python3.10/site-packages (from embedchain<0.2.0,>=0.1.114->crewai==0.51.1->-r ../requirements.txt (line 4)) (0.1.25)\n",
      "Requirement already satisfied: mem0ai<0.2.0,>=0.1.15 in /home/ec2-user/anaconda3/envs/pytorch_p310/lib/python3.10/site-packages (from embedchain<0.2.0,>=0.1.114->crewai==0.51.1->-r ../requirements.txt (line 4)) (0.1.29)\n",
      "Requirement already satisfied: pypdf<5.0.0,>=4.0.1 in /home/ec2-user/anaconda3/envs/pytorch_p310/lib/python3.10/site-packages (from embedchain<0.2.0,>=0.1.114->crewai==0.51.1->-r ../requirements.txt (line 4)) (4.3.1)\n",
      "Requirement already satisfied: pysbd<0.4.0,>=0.3.4 in /home/ec2-user/anaconda3/envs/pytorch_p310/lib/python3.10/site-packages (from embedchain<0.2.0,>=0.1.114->crewai==0.51.1->-r ../requirements.txt (line 4)) (0.3.4)\n",
      "Requirement already satisfied: schema<0.8.0,>=0.7.5 in /home/ec2-user/anaconda3/envs/pytorch_p310/lib/python3.10/site-packages (from embedchain<0.2.0,>=0.1.114->crewai==0.51.1->-r ../requirements.txt (line 4)) (0.7.7)\n",
      "Requirement already satisfied: certifi in /home/ec2-user/anaconda3/envs/pytorch_p310/lib/python3.10/site-packages (from httpx<1,>=0.23.0->anthropic==0.30.1->-r ../requirements.txt (line 13)) (2024.8.30)\n",
      "Requirement already satisfied: httpcore==1.* in /home/ec2-user/anaconda3/envs/pytorch_p310/lib/python3.10/site-packages (from httpx<1,>=0.23.0->anthropic==0.30.1->-r ../requirements.txt (line 13)) (1.0.6)\n",
      "Requirement already satisfied: six>=1.9.0 in /home/ec2-user/anaconda3/envs/pytorch_p310/lib/python3.10/site-packages (from kubernetes>=28.1.0->chromadb==0.4.24->-r ../requirements.txt (line 15)) (1.16.0)\n",
      "Requirement already satisfied: python-dateutil>=2.5.3 in /home/ec2-user/anaconda3/envs/pytorch_p310/lib/python3.10/site-packages (from kubernetes>=28.1.0->chromadb==0.4.24->-r ../requirements.txt (line 15)) (2.9.0)\n",
      "Requirement already satisfied: google-auth>=1.0.1 in /home/ec2-user/anaconda3/envs/pytorch_p310/lib/python3.10/site-packages (from kubernetes>=28.1.0->chromadb==0.4.24->-r ../requirements.txt (line 15)) (2.35.0)\n",
      "Requirement already satisfied: websocket-client!=0.40.0,!=0.41.*,!=0.42.*,>=0.32.0 in /home/ec2-user/anaconda3/envs/pytorch_p310/lib/python3.10/site-packages (from kubernetes>=28.1.0->chromadb==0.4.24->-r ../requirements.txt (line 15)) (1.8.0)\n",
      "Requirement already satisfied: requests-oauthlib in /home/ec2-user/anaconda3/envs/pytorch_p310/lib/python3.10/site-packages (from kubernetes>=28.1.0->chromadb==0.4.24->-r ../requirements.txt (line 15)) (2.0.0)\n",
      "Requirement already satisfied: oauthlib>=3.2.2 in /home/ec2-user/anaconda3/envs/pytorch_p310/lib/python3.10/site-packages (from kubernetes>=28.1.0->chromadb==0.4.24->-r ../requirements.txt (line 15)) (3.2.2)\n",
      "Requirement already satisfied: urllib3>=1.24.2 in /home/ec2-user/anaconda3/envs/pytorch_p310/lib/python3.10/site-packages (from kubernetes>=28.1.0->chromadb==0.4.24->-r ../requirements.txt (line 15)) (2.2.3)\n",
      "Requirement already satisfied: jsonpatch<2.0,>=1.33 in /home/ec2-user/anaconda3/envs/pytorch_p310/lib/python3.10/site-packages (from langchain-core<0.3.0,>=0.2.35->langchain==0.2.15->-r ../requirements.txt (line 5)) (1.33)\n",
      "Requirement already satisfied: requests-toolbelt<2.0.0,>=1.0.0 in /home/ec2-user/anaconda3/envs/pytorch_p310/lib/python3.10/site-packages (from langsmith<0.2.0,>=0.1.17->langchain==0.2.15->-r ../requirements.txt (line 5)) (1.0.0)\n",
      "Requirement already satisfied: coloredlogs in /home/ec2-user/anaconda3/envs/pytorch_p310/lib/python3.10/site-packages (from onnxruntime>=1.14.1->chromadb==0.4.24->-r ../requirements.txt (line 15)) (15.0.1)\n",
      "Requirement already satisfied: flatbuffers in /home/ec2-user/anaconda3/envs/pytorch_p310/lib/python3.10/site-packages (from onnxruntime>=1.14.1->chromadb==0.4.24->-r ../requirements.txt (line 15)) (24.3.25)\n",
      "Requirement already satisfied: protobuf in /home/ec2-user/anaconda3/envs/pytorch_p310/lib/python3.10/site-packages (from onnxruntime>=1.14.1->chromadb==0.4.24->-r ../requirements.txt (line 15)) (5.28.3)\n",
      "Requirement already satisfied: sympy in /home/ec2-user/anaconda3/envs/pytorch_p310/lib/python3.10/site-packages (from onnxruntime>=1.14.1->chromadb==0.4.24->-r ../requirements.txt (line 15)) (1.13.3)\n",
      "Requirement already satisfied: deprecated>=1.2.6 in /home/ec2-user/anaconda3/envs/pytorch_p310/lib/python3.10/site-packages (from opentelemetry-api<2.0.0,>=1.22.0->crewai==0.51.1->-r ../requirements.txt (line 4)) (1.2.14)\n",
      "Requirement already satisfied: importlib-metadata<=8.5.0,>=6.0 in /home/ec2-user/anaconda3/envs/pytorch_p310/lib/python3.10/site-packages (from opentelemetry-api<2.0.0,>=1.22.0->crewai==0.51.1->-r ../requirements.txt (line 4)) (6.11.0)\n",
      "Requirement already satisfied: googleapis-common-protos~=1.52 in /home/ec2-user/anaconda3/envs/pytorch_p310/lib/python3.10/site-packages (from opentelemetry-exporter-otlp-proto-grpc>=1.2.0->chromadb==0.4.24->-r ../requirements.txt (line 15)) (1.65.0)\n",
      "Requirement already satisfied: opentelemetry-exporter-otlp-proto-common==1.28.1 in /home/ec2-user/anaconda3/envs/pytorch_p310/lib/python3.10/site-packages (from opentelemetry-exporter-otlp-proto-grpc>=1.2.0->chromadb==0.4.24->-r ../requirements.txt (line 15)) (1.28.1)\n",
      "Requirement already satisfied: opentelemetry-proto==1.28.1 in /home/ec2-user/anaconda3/envs/pytorch_p310/lib/python3.10/site-packages (from opentelemetry-exporter-otlp-proto-grpc>=1.2.0->chromadb==0.4.24->-r ../requirements.txt (line 15)) (1.28.1)\n",
      "Requirement already satisfied: opentelemetry-instrumentation-asgi==0.49b1 in /home/ec2-user/anaconda3/envs/pytorch_p310/lib/python3.10/site-packages (from opentelemetry-instrumentation-fastapi>=0.41b0->chromadb==0.4.24->-r ../requirements.txt (line 15)) (0.49b1)\n",
      "Requirement already satisfied: opentelemetry-instrumentation==0.49b1 in /home/ec2-user/anaconda3/envs/pytorch_p310/lib/python3.10/site-packages (from opentelemetry-instrumentation-fastapi>=0.41b0->chromadb==0.4.24->-r ../requirements.txt (line 15)) (0.49b1)\n",
      "Requirement already satisfied: opentelemetry-semantic-conventions==0.49b1 in /home/ec2-user/anaconda3/envs/pytorch_p310/lib/python3.10/site-packages (from opentelemetry-instrumentation-fastapi>=0.41b0->chromadb==0.4.24->-r ../requirements.txt (line 15)) (0.49b1)\n",
      "Requirement already satisfied: opentelemetry-util-http==0.49b1 in /home/ec2-user/anaconda3/envs/pytorch_p310/lib/python3.10/site-packages (from opentelemetry-instrumentation-fastapi>=0.41b0->chromadb==0.4.24->-r ../requirements.txt (line 15)) (0.49b1)\n",
      "Requirement already satisfied: wrapt<2.0.0,>=1.0.0 in /home/ec2-user/anaconda3/envs/pytorch_p310/lib/python3.10/site-packages (from opentelemetry-instrumentation==0.49b1->opentelemetry-instrumentation-fastapi>=0.41b0->chromadb==0.4.24->-r ../requirements.txt (line 15)) (1.16.0)\n",
      "Requirement already satisfied: asgiref~=3.0 in /home/ec2-user/anaconda3/envs/pytorch_p310/lib/python3.10/site-packages (from opentelemetry-instrumentation-asgi==0.49b1->opentelemetry-instrumentation-fastapi>=0.41b0->chromadb==0.4.24->-r ../requirements.txt (line 15)) (3.8.1)\n",
      "Requirement already satisfied: monotonic>=1.5 in /home/ec2-user/anaconda3/envs/pytorch_p310/lib/python3.10/site-packages (from posthog>=2.4.0->chromadb==0.4.24->-r ../requirements.txt (line 15)) (1.6)\n",
      "Requirement already satisfied: backoff>=1.10.0 in /home/ec2-user/anaconda3/envs/pytorch_p310/lib/python3.10/site-packages (from posthog>=2.4.0->chromadb==0.4.24->-r ../requirements.txt (line 15)) (2.2.1)\n",
      "Requirement already satisfied: charset-normalizer<4,>=2 in /home/ec2-user/anaconda3/envs/pytorch_p310/lib/python3.10/site-packages (from requests<3,>=2->langchain==0.2.15->-r ../requirements.txt (line 5)) (3.4.0)\n",
      "Requirement already satisfied: huggingface-hub<1.0,>=0.16.4 in /home/ec2-user/anaconda3/envs/pytorch_p310/lib/python3.10/site-packages (from tokenizers>=0.13.0->anthropic==0.30.1->-r ../requirements.txt (line 13)) (0.26.2)\n",
      "Requirement already satisfied: shellingham>=1.3.0 in /home/ec2-user/anaconda3/envs/pytorch_p310/lib/python3.10/site-packages (from typer>=0.9.0->chromadb==0.4.24->-r ../requirements.txt (line 15)) (1.5.4)\n",
      "Requirement already satisfied: httptools>=0.5.0 in /home/ec2-user/anaconda3/envs/pytorch_p310/lib/python3.10/site-packages (from uvicorn[standard]>=0.18.3->chromadb==0.4.24->-r ../requirements.txt (line 15)) (0.6.4)\n",
      "Requirement already satisfied: uvloop!=0.15.0,!=0.15.1,>=0.14.0 in /home/ec2-user/anaconda3/envs/pytorch_p310/lib/python3.10/site-packages (from uvicorn[standard]>=0.18.3->chromadb==0.4.24->-r ../requirements.txt (line 15)) (0.21.0)\n",
      "Requirement already satisfied: watchfiles>=0.13 in /home/ec2-user/anaconda3/envs/pytorch_p310/lib/python3.10/site-packages (from uvicorn[standard]>=0.18.3->chromadb==0.4.24->-r ../requirements.txt (line 15)) (0.24.0)\n",
      "Requirement already satisfied: websockets>=10.4 in /home/ec2-user/anaconda3/envs/pytorch_p310/lib/python3.10/site-packages (from uvicorn[standard]>=0.18.3->chromadb==0.4.24->-r ../requirements.txt (line 15)) (14.0)\n",
      "Requirement already satisfied: Mako in /home/ec2-user/anaconda3/envs/pytorch_p310/lib/python3.10/site-packages (from alembic<2.0.0,>=1.13.1->embedchain<0.2.0,>=0.1.114->crewai==0.51.1->-r ../requirements.txt (line 4)) (1.3.6)\n",
      "Requirement already satisfied: soupsieve>1.2 in /home/ec2-user/anaconda3/envs/pytorch_p310/lib/python3.10/site-packages (from beautifulsoup4<5.0.0,>=4.12.2->embedchain<0.2.0,>=0.1.114->crewai==0.51.1->-r ../requirements.txt (line 4)) (2.5)\n",
      "Requirement already satisfied: fastavro<2.0.0,>=1.9.4 in /home/ec2-user/anaconda3/envs/pytorch_p310/lib/python3.10/site-packages (from cohere<6.0,>=5.3->embedchain<0.2.0,>=0.1.114->crewai==0.51.1->-r ../requirements.txt (line 4)) (1.9.7)\n",
      "Requirement already satisfied: httpx-sse==0.4.0 in /home/ec2-user/anaconda3/envs/pytorch_p310/lib/python3.10/site-packages (from cohere<6.0,>=5.3->embedchain<0.2.0,>=0.1.114->crewai==0.51.1->-r ../requirements.txt (line 4)) (0.4.0)\n",
      "Requirement already satisfied: parameterized<0.10.0,>=0.9.0 in /home/ec2-user/anaconda3/envs/pytorch_p310/lib/python3.10/site-packages (from cohere<6.0,>=5.3->embedchain<0.2.0,>=0.1.114->crewai==0.51.1->-r ../requirements.txt (line 4)) (0.9.0)\n",
      "Requirement already satisfied: types-requests<3.0.0,>=2.0.0 in /home/ec2-user/anaconda3/envs/pytorch_p310/lib/python3.10/site-packages (from cohere<6.0,>=5.3->embedchain<0.2.0,>=0.1.114->crewai==0.51.1->-r ../requirements.txt (line 4)) (2.32.0.20241016)\n",
      "Requirement already satisfied: cachetools<6.0,>=2.0.0 in /home/ec2-user/anaconda3/envs/pytorch_p310/lib/python3.10/site-packages (from google-auth>=1.0.1->kubernetes>=28.1.0->chromadb==0.4.24->-r ../requirements.txt (line 15)) (5.5.0)\n",
      "Requirement already satisfied: pyasn1-modules>=0.2.1 in /home/ec2-user/anaconda3/envs/pytorch_p310/lib/python3.10/site-packages (from google-auth>=1.0.1->kubernetes>=28.1.0->chromadb==0.4.24->-r ../requirements.txt (line 15)) (0.4.1)\n",
      "Requirement already satisfied: rsa<5,>=3.1.4 in /home/ec2-user/anaconda3/envs/pytorch_p310/lib/python3.10/site-packages (from google-auth>=1.0.1->kubernetes>=28.1.0->chromadb==0.4.24->-r ../requirements.txt (line 15)) (4.7.2)\n",
      "Requirement already satisfied: google-api-core!=2.0.*,!=2.1.*,!=2.2.*,!=2.3.*,!=2.4.*,!=2.5.*,!=2.6.*,!=2.7.*,<3.0.0dev,>=1.34.1 in /home/ec2-user/anaconda3/envs/pytorch_p310/lib/python3.10/site-packages (from google-api-core[grpc]!=2.0.*,!=2.1.*,!=2.2.*,!=2.3.*,!=2.4.*,!=2.5.*,!=2.6.*,!=2.7.*,<3.0.0dev,>=1.34.1->google-cloud-aiplatform<2.0.0,>=1.26.1->embedchain<0.2.0,>=0.1.114->crewai==0.51.1->-r ../requirements.txt (line 4)) (2.22.0)\n",
      "Requirement already satisfied: proto-plus<2.0.0dev,>=1.22.3 in /home/ec2-user/anaconda3/envs/pytorch_p310/lib/python3.10/site-packages (from google-cloud-aiplatform<2.0.0,>=1.26.1->embedchain<0.2.0,>=0.1.114->crewai==0.51.1->-r ../requirements.txt (line 4)) (1.25.0)\n",
      "Requirement already satisfied: google-cloud-storage<3.0.0dev,>=1.32.0 in /home/ec2-user/anaconda3/envs/pytorch_p310/lib/python3.10/site-packages (from google-cloud-aiplatform<2.0.0,>=1.26.1->embedchain<0.2.0,>=0.1.114->crewai==0.51.1->-r ../requirements.txt (line 4)) (2.18.2)\n",
      "Requirement already satisfied: google-cloud-bigquery!=3.20.0,<4.0.0dev,>=1.15.0 in /home/ec2-user/anaconda3/envs/pytorch_p310/lib/python3.10/site-packages (from google-cloud-aiplatform<2.0.0,>=1.26.1->embedchain<0.2.0,>=0.1.114->crewai==0.51.1->-r ../requirements.txt (line 4)) (3.26.0)\n",
      "Requirement already satisfied: google-cloud-resource-manager<3.0.0dev,>=1.3.3 in /home/ec2-user/anaconda3/envs/pytorch_p310/lib/python3.10/site-packages (from google-cloud-aiplatform<2.0.0,>=1.26.1->embedchain<0.2.0,>=0.1.114->crewai==0.51.1->-r ../requirements.txt (line 4)) (1.13.0)\n",
      "Requirement already satisfied: shapely<3.0.0dev in /home/ec2-user/anaconda3/envs/pytorch_p310/lib/python3.10/site-packages (from google-cloud-aiplatform<2.0.0,>=1.26.1->embedchain<0.2.0,>=0.1.114->crewai==0.51.1->-r ../requirements.txt (line 4)) (2.0.6)\n",
      "Requirement already satisfied: filelock in /home/ec2-user/anaconda3/envs/pytorch_p310/lib/python3.10/site-packages (from huggingface-hub<1.0,>=0.16.4->tokenizers>=0.13.0->anthropic==0.30.1->-r ../requirements.txt (line 13)) (3.16.1)\n",
      "Requirement already satisfied: fsspec>=2023.5.0 in /home/ec2-user/anaconda3/envs/pytorch_p310/lib/python3.10/site-packages (from huggingface-hub<1.0,>=0.16.4->tokenizers>=0.13.0->anthropic==0.30.1->-r ../requirements.txt (line 13)) (2024.10.0)\n",
      "Requirement already satisfied: zipp>=0.5 in /home/ec2-user/anaconda3/envs/pytorch_p310/lib/python3.10/site-packages (from importlib-metadata<=8.5.0,>=6.0->opentelemetry-api<2.0.0,>=1.22.0->crewai==0.51.1->-r ../requirements.txt (line 4)) (3.20.2)\n",
      "Requirement already satisfied: jsonpointer>=1.9 in /home/ec2-user/anaconda3/envs/pytorch_p310/lib/python3.10/site-packages (from jsonpatch<2.0,>=1.33->langchain-core<0.3.0,>=0.2.35->langchain==0.2.15->-r ../requirements.txt (line 5)) (3.0.0)\n",
      "Requirement already satisfied: langchain-experimental>=0.0.6 in /home/ec2-user/anaconda3/envs/pytorch_p310/lib/python3.10/site-packages (from langchain-cohere<0.2.0,>=0.1.4->embedchain<0.2.0,>=0.1.114->crewai==0.51.1->-r ../requirements.txt (line 4)) (0.0.64)\n",
      "Requirement already satisfied: pandas>=1.4.3 in /home/ec2-user/anaconda3/envs/pytorch_p310/lib/python3.10/site-packages (from langchain-cohere<0.2.0,>=0.1.4->embedchain<0.2.0,>=0.1.114->crewai==0.51.1->-r ../requirements.txt (line 4)) (1.5.3)\n",
      "Requirement already satisfied: tabulate<0.10.0,>=0.9.0 in /home/ec2-user/anaconda3/envs/pytorch_p310/lib/python3.10/site-packages (from langchain-cohere<0.2.0,>=0.1.4->embedchain<0.2.0,>=0.1.114->crewai==0.51.1->-r ../requirements.txt (line 4)) (0.9.0)\n",
      "Requirement already satisfied: dataclasses-json<0.7,>=0.5.7 in /home/ec2-user/anaconda3/envs/pytorch_p310/lib/python3.10/site-packages (from langchain-community<0.3.0,>=0.2.6->embedchain<0.2.0,>=0.1.114->crewai==0.51.1->-r ../requirements.txt (line 4)) (0.6.7)\n",
      "Requirement already satisfied: pytz<2025.0,>=2024.1 in /home/ec2-user/anaconda3/envs/pytorch_p310/lib/python3.10/site-packages (from mem0ai<0.2.0,>=0.1.15->embedchain<0.2.0,>=0.1.114->crewai==0.51.1->-r ../requirements.txt (line 4)) (2024.1)\n",
      "Requirement already satisfied: qdrant-client<2.0.0,>=1.9.1 in /home/ec2-user/anaconda3/envs/pytorch_p310/lib/python3.10/site-packages (from mem0ai<0.2.0,>=0.1.15->embedchain<0.2.0,>=0.1.114->crewai==0.51.1->-r ../requirements.txt (line 4)) (1.12.1)\n",
      "Requirement already satisfied: markdown-it-py>=2.2.0 in /home/ec2-user/anaconda3/envs/pytorch_p310/lib/python3.10/site-packages (from rich<14.0.0,>=13.7.0->instructor==1.3.3->crewai==0.51.1->-r ../requirements.txt (line 4)) (3.0.0)\n",
      "Requirement already satisfied: pygments<3.0.0,>=2.13.0 in /home/ec2-user/anaconda3/envs/pytorch_p310/lib/python3.10/site-packages (from rich<14.0.0,>=13.7.0->instructor==1.3.3->crewai==0.51.1->-r ../requirements.txt (line 4)) (2.18.0)\n",
      "Requirement already satisfied: propcache>=0.2.0 in /home/ec2-user/anaconda3/envs/pytorch_p310/lib/python3.10/site-packages (from yarl<2.0,>=1.12.0->aiohttp<4.0.0,>=3.8.3->langchain==0.2.15->-r ../requirements.txt (line 5)) (0.2.0)\n",
      "Requirement already satisfied: humanfriendly>=9.1 in /home/ec2-user/anaconda3/envs/pytorch_p310/lib/python3.10/site-packages (from coloredlogs->onnxruntime>=1.14.1->chromadb==0.4.24->-r ../requirements.txt (line 15)) (10.0)\n",
      "Requirement already satisfied: mpmath<1.4,>=1.1.0 in /home/ec2-user/anaconda3/envs/pytorch_p310/lib/python3.10/site-packages (from sympy->onnxruntime>=1.14.1->chromadb==0.4.24->-r ../requirements.txt (line 15)) (1.3.0)\n",
      "Requirement already satisfied: marshmallow<4.0.0,>=3.18.0 in /home/ec2-user/anaconda3/envs/pytorch_p310/lib/python3.10/site-packages (from dataclasses-json<0.7,>=0.5.7->langchain-community<0.3.0,>=0.2.6->embedchain<0.2.0,>=0.1.114->crewai==0.51.1->-r ../requirements.txt (line 4)) (3.23.1)\n",
      "Requirement already satisfied: typing-inspect<1,>=0.4.0 in /home/ec2-user/anaconda3/envs/pytorch_p310/lib/python3.10/site-packages (from dataclasses-json<0.7,>=0.5.7->langchain-community<0.3.0,>=0.2.6->embedchain<0.2.0,>=0.1.114->crewai==0.51.1->-r ../requirements.txt (line 4)) (0.9.0)\n",
      "Requirement already satisfied: grpcio-status<2.0.dev0,>=1.33.2 in /home/ec2-user/anaconda3/envs/pytorch_p310/lib/python3.10/site-packages (from google-api-core[grpc]!=2.0.*,!=2.1.*,!=2.2.*,!=2.3.*,!=2.4.*,!=2.5.*,!=2.6.*,!=2.7.*,<3.0.0dev,>=1.34.1->google-cloud-aiplatform<2.0.0,>=1.26.1->embedchain<0.2.0,>=0.1.114->crewai==0.51.1->-r ../requirements.txt (line 4)) (1.67.1)\n",
      "Requirement already satisfied: google-cloud-core<3.0.0dev,>=2.4.1 in /home/ec2-user/anaconda3/envs/pytorch_p310/lib/python3.10/site-packages (from google-cloud-bigquery!=3.20.0,<4.0.0dev,>=1.15.0->google-cloud-aiplatform<2.0.0,>=1.26.1->embedchain<0.2.0,>=0.1.114->crewai==0.51.1->-r ../requirements.txt (line 4)) (2.4.1)\n",
      "Requirement already satisfied: google-resumable-media<3.0dev,>=2.0.0 in /home/ec2-user/anaconda3/envs/pytorch_p310/lib/python3.10/site-packages (from google-cloud-bigquery!=3.20.0,<4.0.0dev,>=1.15.0->google-cloud-aiplatform<2.0.0,>=1.26.1->embedchain<0.2.0,>=0.1.114->crewai==0.51.1->-r ../requirements.txt (line 4)) (2.7.2)\n",
      "Requirement already satisfied: grpc-google-iam-v1<1.0.0dev,>=0.12.4 in /home/ec2-user/anaconda3/envs/pytorch_p310/lib/python3.10/site-packages (from google-cloud-resource-manager<3.0.0dev,>=1.3.3->google-cloud-aiplatform<2.0.0,>=1.26.1->embedchain<0.2.0,>=0.1.114->crewai==0.51.1->-r ../requirements.txt (line 4)) (0.13.1)\n",
      "Requirement already satisfied: google-crc32c<2.0dev,>=1.0 in /home/ec2-user/anaconda3/envs/pytorch_p310/lib/python3.10/site-packages (from google-cloud-storage<3.0.0dev,>=1.32.0->google-cloud-aiplatform<2.0.0,>=1.26.1->embedchain<0.2.0,>=0.1.114->crewai==0.51.1->-r ../requirements.txt (line 4)) (1.6.0)\n",
      "Requirement already satisfied: mdurl~=0.1 in /home/ec2-user/anaconda3/envs/pytorch_p310/lib/python3.10/site-packages (from markdown-it-py>=2.2.0->rich<14.0.0,>=13.7.0->instructor==1.3.3->crewai==0.51.1->-r ../requirements.txt (line 4)) (0.1.2)\n",
      "Requirement already satisfied: pyasn1<0.7.0,>=0.4.6 in /home/ec2-user/anaconda3/envs/pytorch_p310/lib/python3.10/site-packages (from pyasn1-modules>=0.2.1->google-auth>=1.0.1->kubernetes>=28.1.0->chromadb==0.4.24->-r ../requirements.txt (line 15)) (0.6.1)\n",
      "Requirement already satisfied: grpcio-tools>=1.41.0 in /home/ec2-user/anaconda3/envs/pytorch_p310/lib/python3.10/site-packages (from qdrant-client<2.0.0,>=1.9.1->mem0ai<0.2.0,>=0.1.15->embedchain<0.2.0,>=0.1.114->crewai==0.51.1->-r ../requirements.txt (line 4)) (1.67.1)\n",
      "Requirement already satisfied: portalocker<3.0.0,>=2.7.0 in /home/ec2-user/anaconda3/envs/pytorch_p310/lib/python3.10/site-packages (from qdrant-client<2.0.0,>=1.9.1->mem0ai<0.2.0,>=0.1.15->embedchain<0.2.0,>=0.1.114->crewai==0.51.1->-r ../requirements.txt (line 4)) (2.10.1)\n",
      "Requirement already satisfied: MarkupSafe>=0.9.2 in /home/ec2-user/anaconda3/envs/pytorch_p310/lib/python3.10/site-packages (from Mako->alembic<2.0.0,>=1.13.1->embedchain<0.2.0,>=0.1.114->crewai==0.51.1->-r ../requirements.txt (line 4)) (3.0.2)\n",
      "Requirement already satisfied: setuptools in /home/ec2-user/anaconda3/envs/pytorch_p310/lib/python3.10/site-packages (from grpcio-tools>=1.41.0->qdrant-client<2.0.0,>=1.9.1->mem0ai<0.2.0,>=0.1.15->embedchain<0.2.0,>=0.1.114->crewai==0.51.1->-r ../requirements.txt (line 4)) (75.2.0)\n",
      "Requirement already satisfied: h2<5,>=3 in /home/ec2-user/anaconda3/envs/pytorch_p310/lib/python3.10/site-packages (from httpx[http2]>=0.20.0->qdrant-client<2.0.0,>=1.9.1->mem0ai<0.2.0,>=0.1.15->embedchain<0.2.0,>=0.1.114->crewai==0.51.1->-r ../requirements.txt (line 4)) (4.1.0)\n",
      "Requirement already satisfied: mypy-extensions>=0.3.0 in /home/ec2-user/anaconda3/envs/pytorch_p310/lib/python3.10/site-packages (from typing-inspect<1,>=0.4.0->dataclasses-json<0.7,>=0.5.7->langchain-community<0.3.0,>=0.2.6->embedchain<0.2.0,>=0.1.114->crewai==0.51.1->-r ../requirements.txt (line 4)) (1.0.0)\n",
      "Requirement already satisfied: hyperframe<7,>=6.0 in /home/ec2-user/anaconda3/envs/pytorch_p310/lib/python3.10/site-packages (from h2<5,>=3->httpx[http2]>=0.20.0->qdrant-client<2.0.0,>=1.9.1->mem0ai<0.2.0,>=0.1.15->embedchain<0.2.0,>=0.1.114->crewai==0.51.1->-r ../requirements.txt (line 4)) (6.0.1)\n",
      "Requirement already satisfied: hpack<5,>=4.0 in /home/ec2-user/anaconda3/envs/pytorch_p310/lib/python3.10/site-packages (from h2<5,>=3->httpx[http2]>=0.20.0->qdrant-client<2.0.0,>=1.9.1->mem0ai<0.2.0,>=0.1.15->embedchain<0.2.0,>=0.1.114->crewai==0.51.1->-r ../requirements.txt (line 4)) (4.0.0)\n"
     ]
    }
   ],
   "source": [
    "!pip install -r ../requirements.txt"
   ]
  },
  {
   "cell_type": "code",
   "execution_count": 3,
   "id": "7799ee9a-0e21-43e3-ae45-0cec6a135ae3",
   "metadata": {
    "scrolled": true,
    "tags": []
   },
   "outputs": [
    {
     "name": "stdout",
     "output_type": "stream",
     "text": [
      "Requirement already satisfied: pytest in /home/ec2-user/anaconda3/envs/pytorch_p310/lib/python3.10/site-packages (8.3.3)\n",
      "Requirement already satisfied: iniconfig in /home/ec2-user/anaconda3/envs/pytorch_p310/lib/python3.10/site-packages (from pytest) (2.0.0)\n",
      "Requirement already satisfied: packaging in /home/ec2-user/anaconda3/envs/pytorch_p310/lib/python3.10/site-packages (from pytest) (24.2)\n",
      "Requirement already satisfied: pluggy<2,>=1.5 in /home/ec2-user/anaconda3/envs/pytorch_p310/lib/python3.10/site-packages (from pytest) (1.5.0)\n",
      "Requirement already satisfied: exceptiongroup>=1.0.0rc8 in /home/ec2-user/anaconda3/envs/pytorch_p310/lib/python3.10/site-packages (from pytest) (1.2.2)\n",
      "Requirement already satisfied: tomli>=1 in /home/ec2-user/anaconda3/envs/pytorch_p310/lib/python3.10/site-packages (from pytest) (2.0.2)\n"
     ]
    }
   ],
   "source": [
    "!pip install pytest"
   ]
  },
  {
   "cell_type": "code",
   "execution_count": 4,
   "id": "5a4e6e30-09f5-4be9-a6c4-b6eb553aba2a",
   "metadata": {
    "tags": []
   },
   "outputs": [],
   "source": [
    "#pip install packaging"
   ]
  },
  {
   "cell_type": "code",
   "execution_count": 5,
   "id": "a288d1d3-63b1-4c0c-b865-350b23b51235",
   "metadata": {
    "tags": []
   },
   "outputs": [
    {
     "data": {
      "text/plain": [
       "True"
      ]
     },
     "execution_count": 5,
     "metadata": {},
     "output_type": "execute_result"
    }
   ],
   "source": [
    "import dotenv\n",
    "dotenv.load_dotenv()"
   ]
  },
  {
   "cell_type": "code",
   "execution_count": 6,
   "id": "6ebe8df9-8e87-4a7e-bc64-7b80044d248e",
   "metadata": {
    "tags": []
   },
   "outputs": [
    {
     "data": {
      "text/plain": [
       "'/home/ec2-user/SageMaker/GDSC/Github/tests'"
      ]
     },
     "execution_count": 6,
     "metadata": {},
     "output_type": "execute_result"
    }
   ],
   "source": [
    "import os\n",
    "import sys \n",
    "\n",
    "sys.path.append('../')\n",
    "os.getcwd()"
   ]
  },
  {
   "cell_type": "code",
   "execution_count": 7,
   "id": "e88f0ccd-f33f-46de-95c9-eb5f67ba3110",
   "metadata": {
    "tags": []
   },
   "outputs": [
    {
     "name": "stderr",
     "output_type": "stream",
     "text": [
      "2024-11-10 20:35:49,453 - INFO - Found credentials from IAM Role: BaseNotebookInstanceEc2InstanceRole\n"
     ]
    },
    {
     "name": "stdout",
     "output_type": "stream",
     "text": [
      "sagemaker.config INFO - Not applying SDK defaults from location: /etc/xdg/sagemaker/config.yaml\n",
      "sagemaker.config INFO - Not applying SDK defaults from location: /home/ec2-user/.config/sagemaker/config.yaml\n"
     ]
    },
    {
     "name": "stderr",
     "output_type": "stream",
     "text": [
      "2024-11-10 20:35:56,252 - INFO - Found credentials from IAM Role: BaseNotebookInstanceEc2InstanceRole\n"
     ]
    }
   ],
   "source": [
    "from src.submission import create_submission\n",
    "crew = create_submission.create_submission(12321)"
   ]
  },
  {
   "cell_type": "code",
   "execution_count": 8,
   "id": "9565c89f-4842-4bc8-8aec-0aba3c576bff",
   "metadata": {
    "tags": []
   },
   "outputs": [],
   "source": [
    "import crewai\n",
    "\n",
    "assert type(crew.crew()) == crewai.crew.Crew\n",
    "\n",
    "assert '../src/submission/config/agents_rag_gdp.yaml' in str(crew.original_agents_config_path)\n",
    "assert '../src/submission/config/tasks_rag_gdp.yaml' in str(crew.original_tasks_config_path)\n",
    "\n",
    "agent_config = crew.agents_config\n",
    "\n",
    "assert crew.is_crew_class\n",
    "\n",
    "assert len(crew.agents) == 4\n",
    "assert 'lead_data_analyst' in agent_config.keys()\n",
    "assert 'data_engineer' in agent_config.keys()\n",
    "assert 'chart_preparer' in agent_config.keys()\n",
    "assert 'data_scientist' in agent_config.keys()\n",
    "\n",
    "assert len(crew.tasks) == 2\n",
    "assert 'data_science_task' in crew.tasks_config.keys()\n",
    "assert 'answer_question_task' in crew.tasks_config.keys()\n",
    "\n",
    "assert 'role' in agent_config['lead_data_analyst'] and 'goal' in agent_config['lead_data_analyst'] and 'backstory' in agent_config['lead_data_analyst']\n",
    "assert 'role' in agent_config['data_engineer'] and 'goal' in agent_config['data_engineer'] and 'backstory' in agent_config['data_engineer']\n",
    "assert 'role' in agent_config['chart_preparer'] and 'goal' in agent_config['chart_preparer'] and 'backstory' in agent_config['chart_preparer']\n",
    "assert 'role' in agent_config['data_scientist'] and 'goal' in agent_config['data_scientist'] and 'backstory' in agent_config['data_scientist']\n",
    "\n",
    "assert 'description' in crew.tasks_config['data_science_task'].keys() and 'expected_output' in crew.tasks_config['data_science_task'].keys()\n",
    "assert 'description' in crew.tasks_config['answer_question_task'].keys() and 'expected_output' in crew.tasks_config['answer_question_task'].keys()\n",
    "\n",
    "\n",
    "assert type(crew.lead_data_analyst()) == crewai.agent.Agent\n",
    "assert type(crew.data_engineer()) == crewai.agent.Agent\n",
    "assert type(crew.chart_preparer()) == crewai.agent.Agent\n",
    "assert type(crew.data_scientist()) == crewai.agent.Agent\n",
    "\n",
    "assert type(crew.data_science_task()) == crewai.task.Task\n",
    "assert type(crew.answer_question_task()) == crewai.task.Task\n"
   ]
  },
  {
   "cell_type": "code",
   "execution_count": 9,
   "id": "487c35f9-027c-4061-a472-cab014d2849a",
   "metadata": {
    "tags": []
   },
   "outputs": [],
   "source": [
    "query = 'Is it possible to cook a cake?'\n",
    "answer = ''' Yes, you can absolutely cook a cake! In fact, baking a cake is one of the most common ways to make it. The process typically involves mixing ingredients like flour, sugar, eggs, butter or oil, and a leavening agent (like baking powder) to create a batter, then baking it in the oven at a controlled temperature.\n",
    "\n",
    "However, \"cooking\" a cake can refer to some alternative methods, especially if you don’t have an oven. Here are a few options:\n",
    "\n",
    "Microwave Cake: You can make mug cakes by combining a small portion of cake batter in a mug and microwaving it for a minute or so. Microwave cakes cook quickly but tend to be denser than oven-baked cakes.\n",
    "\n",
    "Stovetop Cake: Using a heavy pan or a skillet, you can cook a cake on the stovetop. Often, a pot or a Dutch oven is used to simulate oven-like conditions. You'll need low, even heat and might need to flip the cake midway.\n",
    "\n",
    "Steamed Cake: In some cuisines, cakes are steamed rather than baked. The batter is placed in a pan, which is then set in a steamer. This method results in a moist, soft cake and is often used for specific cake recipes, like Chinese sponge cakes.\n",
    "\n",
    "Slow Cooker Cake: A slow cooker can also be used to “bake” a cake by cooking it on low heat over a long period, resulting in a soft, tender cake. This method works particularly well for dense cakes, like chocolate lava cake or pudding cake.\n",
    "\n",
    "Each method has a slightly different result, but all are ways to \"cook\" a cake!'''"
   ]
  },
  {
   "cell_type": "code",
   "execution_count": 10,
   "id": "31008ee5-2ea9-4c1e-8bc9-b97ae0abccef",
   "metadata": {
    "tags": []
   },
   "outputs": [
    {
     "name": "stderr",
     "output_type": "stream",
     "text": [
      "2024-11-10 20:36:13,068 - INFO - Found credentials from IAM Role: BaseNotebookInstanceEc2InstanceRole\n"
     ]
    }
   ],
   "source": [
    "assert type(crew.short_answer(query,answer)) == str\n",
    "assert type(crew.complex_answer(query,answer)) == str\n",
    "# If there is no relevant data in PIRLS database for visualization purpose to answer the query return only empty string: ''.\n",
    "assert crew.data_chart_answer(query, answer) == \"''\"\n",
    "plot_code = crew.data_chart_answer('Compare revenues for companies: X = 125, Y = 250, Z = 155', answer = \"Here's a comparison of the revenues for companies X, Y, and Z: Company Y has the highest revenue at 250. Company Z follows with a revenue of 155. Company X has the lowest revenue, at 125.\")\n",
    "assert \"matplotlib\" in plot_code\n",
    "assert '.s3.amazonaws.com' in crew.make_a_chart(code = plot_code)\n",
    "assert type(crew.dad_joke(query= 'How was your day?',answer = 'It was a good day')) == str\n",
    "assert type(crew.random_string(20)) == str\n",
    "assert len(crew.random_string(20)) == 20\n",
    "\n",
    "assert \"no markdown\" in crew.extract_markdown_data_scientist(answer)\n",
    "\n",
    "\n",
    "markdown = '''\n",
    "\n",
    "> #### Short answer\n",
    "\n",
    "# Company Revenue Comparison\n",
    "\n",
    "This is a comparison of revenues for three companies: **Company X**, **Company Y**, and **Company Z**.\n",
    "\n",
    "> #### Data visualization\n",
    "\n",
    "![\"Comparison\"](https://my-bucket-12345.s3.amazonaws.com/comparison)\n",
    "'''\n",
    "\n",
    "assert crew.extract_markdown_data_scientist(markdown) == '![\"Comparison\"](https://my-bucket-12345.s3.amazonaws.com/comparison)'"
   ]
  },
  {
   "cell_type": "code",
   "execution_count": 11,
   "id": "450bb728-8e3a-48d9-80c3-5744840f99f6",
   "metadata": {
    "scrolled": true,
    "tags": []
   },
   "outputs": [
    {
     "name": "stderr",
     "output_type": "stream",
     "text": [
      "2024-11-10 20:36:17,306 - INFO - Found credentials from IAM Role: BaseNotebookInstanceEc2InstanceRole\n"
     ]
    },
    {
     "name": "stdout",
     "output_type": "stream",
     "text": [
      "An error occurred: [Errno 17] File exists: './rag'\n",
      "An error occurred: [Errno 17] File exists: './rag/collections_2'\n",
      "An error occurred: [Errno 17] File exists: './rag/collections_2/7b08d22f-fe86-4bfe-a546-051e34289f4b/'\n"
     ]
    },
    {
     "name": "stderr",
     "output_type": "stream",
     "text": [
      "2024-11-10 20:36:18,190 - INFO - Anonymized telemetry enabled. See                     https://docs.trychroma.com/telemetry for more information.\n"
     ]
    },
    {
     "name": "stdout",
     "output_type": "stream",
     "text": [
      "\u001b[1m\u001b[95m [2024-11-10 20:36:18][DEBUG]: == Working Agent: PIRLS Data Scientist\n",
      "\u001b[00m\n",
      "\u001b[1m\u001b[95m [2024-11-10 20:36:18][INFO]: == Starting Task: provide your insights to the question:     \n",
      "        Answer this query Hello.\n",
      "        Use the knowledge from this source in the final answer if it only helps:\n",
      "        source: [\"What can we learn from PIRLS 2021?, Department of Education, University of Oxford\"](https://www.youtube.com/watch?v=wACy8bzeOAU), content: Thank you. And we do have about six minutes, if there are any other questions from those who are here. And we'll get to them in a minute. And what I will say, assuming that all goes well with the recording and assuming that there will be some people watching this after the fact, if you do have questions and you didn't have a chance to ask them live, please do feel free to get in touch with me. My contact information is available on the PIRLS website. If you don't want to reach out to anyone else directly or you can reach out to the English hubs directly. But I'm happy to really relay questions as needed if there are questions after the fact. I know not everyone. If you can attend in real time. Are there any other questions from the audience we have at the moment? Well, in the absence of any questions posted, then, in the last five minutes, I suppose I'll open up the floor in case any of the. Of my co-presenters here have any questions for one another or kind of final thoughts to share. In addition to anything that you said, you don't don't have to tack anything on here, but you're more than welcome if you have kind of final reflection that you think we didn't draw out somewhere else. I'll open the floor. Thank you. Can I just come in and just say one final thing? Of course you can. If you remember on the back and the bottom of one of our slides, it says that policy is currently under discussion, and I think it's worth, you know, people knowing that whilst we're being asked,.\n",
      "source: [\"What can we learn from PIRLS 2021?, Department of Education, University of Oxford\"](https://www.youtube.com/watch?v=wACy8bzeOAU), content: the country and find your local English hub to get in contact with them too. I think I'm handing over to Ariel now. Thank you. Thanks just before I go over to questions we do have a couple of really good questions and I want to make sure we do. I wanted to take a moment to express my really deep appreciation for everyone who's contributed to this symposium because I think you know as I said earlier but it really can't be said enough the most that we can do in research like PIRLS is identify patterns and without kind of reflecting on what that means for practice you know the value of that research really isn't isn't capitalised on. So I really appreciate the efforts that we've made to work together here and I really appreciate the presentations that everyone's given on the kind of possible why and what next. So let's without further ado we could go to questions I'm just going to publish the two that are up and encourage people who are in attendance to add any questions to the queue that you might have in the order then in which they came. Hopefully those are available now. There was one question I think for Matthew if I could just put you up on what work you actually could do around that you mentioned around kind of reading in the home. Yep so. We've done lots of work in supporting our parents and carers to understand our approach to reading both in terms of the phonics element but also our reading learning. So we've done lots of work in supporting our parents and carers to.\n",
      "source: [\"What can we learn from PIRLS 2021?, Department of Education, University of Oxford\"](https://www.youtube.com/watch?v=wACy8bzeOAU), content: we know that it's going to be webinars coming out. We've got webinars coming out for both primary and secondary. And when we were talking about those, we wanted to separate because we knew that our primary schools, secondary schools are in a different and on a different, slightly different journey, different timing, I'd say. And there are differences, of course, between strategies for older students, not the strategies themselves, but how you deal with older students, etc. So it's worth getting involved and signing up for those webinars because they'll be coming out. In the next few weeks. Thank you. Thank you. That's really useful. And I think hopefully this is helpful to have drawn drawn out some really specific actions that people can take and information that they can access as kind of next steps. I think unless there's any last thought from the group that we have here presenting. We can probably draw to a close here. Are you all happy with that? Okay. Well, just thank you again, not only to the people who presented, but to the people who joined us. And I hope that this will be something that others can access afterwards. So thank you very much. And I suppose we will end here..\n",
      "source: [\"PIRLS 2021– Findings, IEA Education\"](https://www.youtube.com/watch?v=2D1RnQhyAZU), content: confident readers, and their achievement was near the high international benchmark. Students' reading enjoyment was associated with higher average achievement. However, the majority only somewhat, or do not like to read. This video presents highlights of reading achievement in PIRLS 2021 and an overview of supportive home and school environments for reading, teaching, and learning. For a more comprehensive understanding of the PIRLS 2021 assessment, many more results are available in the International Report and through the database at PIRLS2021.org. This website contains further information about the assessment results, videos of materials from the assessment, and data as well as technical documentation for download and further analyses. Thank you for watching..\n",
      "source: [\"PIRLS 2021– Findings, IEA Education\"](https://www.youtube.com/watch?v=2D1RnQhyAZU), content: Due to tremendous efforts by the 57 PIRLS 2021 countries and eight benchmarking participants over nearly a two-year period, about 400,000 students were assessed. The PIRLS assessment is available online, and the 600,000 students will read with data from 25 times over the по Alles明白. These has been a key적인 and sacred pragmatism since pre-COVID. Registering every semester now, learners now have access to their own Practical reading funding. Introducing here's a high-key plan to También la espera de clases de preıkomiete 2.405 feedback application. Estamos forsakando – first 2 bonitas para cada Wochen,吃-c Ziçain tho 1.405 suficient demand de saludos que utilizamos,hmm y y 2 demonstrated by fourth grade students. PIRLS reported achievement at four international benchmarks. Low, intermediate, high, and advanced. Students reaching the low benchmark could read straightforward texts. In contrast, the advanced benchmark is a very high target. The small percentages of students reaching the advanced benchmark, 7% or less in the majority of countries, could integrate ideas and evaluate relatively complex texts with abstract or technical concepts. There was nearly universal literacy in the 43 PIRLS 2021 countries that managed to collect achievement data on schedule. The majority of these countries had 94% or more of their students reaching the low benchmark, demonstrating they could read relatively uncomplicated materials. The majority of countries also had 36% or more of their.\n",
      "source: [\"What can we learn from PIRLS 2021?, Department of Education, University of Oxford\"](https://www.youtube.com/watch?v=wACy8bzeOAU), content: school, over Pearl's time. Helen and Keyakter. She cared very much about that and decided toüzikłe the interestedical здесь Check out how you can be engaged, and also check out how you pass on lessons in I also want to encourage you to see with respect û blown up the um so Actually, just one more methodrenting talks, but I think it's true that, uh, So just pearls2021.uk. I'll stop there and just say all we can really say from the research side, just from those results, is we can talk about broad patterns. We can say what's happening on average, but actually making some meaning of that towards what happens in schools and what happens in policy is, you know, that requires some discussion and that requires a bit more thought. So the point of today really is to hand over and let the English Hubs leads who have agreed to contribute to this session think about actually what do those results mean? Where have they come from? And so what? So we have two key themes that we've focused on and you'll hear a bit about each of these. One is the correlation with phonics screening check scores and the other concerns people attitudes around reading. So I will. End there and hand over so that we can hear more about that. Um, oh, the phonics, the. Sorry, the slides have not cooperated with me. Of course. And then up. But. I should do better. Just check. Leanna, you. Are you started? Yeah, that's fantastic. Okay. Right. Thanks, Ariel. So, yes, thank you for inviting us along today just to.\n",
      "source: [\"PIRLS 2021– Findings, IEA Education\"](https://www.youtube.com/watch?v=2D1RnQhyAZU), content: normal operations were not available. The number of students who attended PIRLS 2021 were only 30 or more. Recent achievement trends between 2016 and 2021 reflected the negative impact of the COVID-19 pandemic on education, with the positive upward trends announced in 2016 stalled or reversed in 2021. 21 of the 32 countries that had comparable trend data between those assessments showed declines between 2016 and 2021. Eight had no change, and only three had higher achievement. According to their parents, staying home from school adversely affected learning for two-thirds of the students. Contextual data were collected from students, their parents, and their school principals to provide a variety of perspectives on home and school contexts for teaching and learning. The following highlights, based on all 57 countries, underscore the importance of home and school environments in fostering reading achievement. Home support is key to achieving a high-quality education. Home support is key to achieving a high-quality education. Home support is key to achieving a high-quality education. Home support is key to achieving a high-quality education. It's a key to fostering students' early literacy skills. Based on parents' reports about their education, occupation, and resources within the home, students with higher home SES had much higher average reading achievement than those with lower home SES. An early start in literacy learning was associated with higher average reading.\n",
      "source: [\"What can we learn from PIRLS 2021?, Department of Education, University of Oxford\"](https://www.youtube.com/watch?v=wACy8bzeOAU), content: group, for example, around encouraging boys to become readers and to read more and spend more time engaged in reading, and unintentionally we've excluded other groups of pupils from some of our elements and some of the, you know, the learning that we have. So that's really just the sort of, just a really quick sort of run through some of the possible reasons for those findings in that decline around confidence and engagement and enjoyment. And I think I'm going to pass the baton on to now, to Matthew now to introduce us to some of the things that we've been talking about in the past. Matthew, I think you've got a lot of information about the role of reading in the reading culture. So I'm going to turn it over to Matthew now, to introduce us to some of the things that we've been talking about. Matthew, thank you. Thank you, Liz. So I'm going to turn it over to Matthew now, to introduce us to some sort of elements of good practice. Thanks, Liz. Reflecting on the findings, we've been thinking about the work we're doing at Chesston Primary School, which is where the Wanderl English Hub is based in London. We've reflected on research from Professor Tareeta Kremen at the Open University and her colleagues there, as well as more recently the reading frameworks from the DfE and the guidance involved in there, and really thought about practical things we could implement in the reading culture. So I'm going to turn it over to Matthew now, to introduce us to some of the things that.\n",
      "source: [\"What can we learn from PIRLS 2021?, Department of Education, University of Oxford\"](https://www.youtube.com/watch?v=wACy8bzeOAU), content: you've got to look at that expression and awareness of the audience and you've got to get that comprehension, that cognition about what they're reading. And so the development of reading as a complex skill is where we need to be looking at building upon this to get those great outcomes in readers. And as I've said fundamentally it's a whole school, it's all leaders, it's a strategy and so schools need to build that strategy into the very fabric of daily life in the schools. So we're going to hand on now to think a little bit more about that culture and how you might achieve that. Hi, yes so I hope everyone can hear me. So as we've heard, despite really encouraging outcome linked to reading performance, there were some less positive responses relating to reading confidence, enjoyment and engagement. And I think if we can move on to the next slide please. Thank you. Thank you. Thank you. Thank you. Thank you. Thank you. Thank you. Thank you. Thank you. Next slide in our presentation we can see here the report from the CLPE which was based on approximately 800 responses. And you can see from some of the extracts here from the report considers the missed opportunities really for schools to create those communities of readers and and to immerse pupils in positive literary experiences due to the lockdown as being a possible contributing factor to a reduction in reading confidence, enjoyment and engagement. So I suppose really we'd sort of start this section of the presentation.\n",
      "source: [\"What can we learn from PIRLS 2021?, Department of Education, University of Oxford\"](https://www.youtube.com/watch?v=wACy8bzeOAU), content: And I think without further ado, we'd best get started. So welcome. We're looking to what we can learn from PIRLS 2021 and in particular making a sense of not just the research findings, but some reflections on them from kind of thinking about practice in schools in England from the perspective of the English Hubs. So thank you for being with us and thank you to the presenters who are contributing today from the English Hubs. We'll start with an overview of key findings from PIRLS in England, a little bit about what the study was and what we found in it, and then I'll hand over to some leads from English Hubs to reflect on why the findings might be what they were and really what next for people working in schools. What are the implications? What are the implications for practice and what do the findings mean practically? So just a few acknowledgements about the study, because PIRLS internationally is quite a complex type of a piece of research. The international study is led across a large number of countries, and we'll talk a bit more about that by the International Association for the Evaluation of Educational Achievement, and directed in particular by the TIMSS and PIRLS. International Study Centre. The project delivery in England was led not by Oxford, but by Pearson and by Associate Professor Dr Grace Grima at Pearson. The research team at Oxford was responsible for the analysis contributing to the national report and to other outputs from the project. And I wanted.\n",
      "source: [\"PIRLS 2021– Findings, IEA Education\"](https://www.youtube.com/watch?v=2D1RnQhyAZU), content: Students who attended schools with higher percentages of economically affluent students had higher average reading achievement. Principals also were asked how much resource shortages affected their reading achievement. On average, 31% of students attended schools not affected by resource shortages, and they had higher reading achievement. PIRLS asked school principals about the extent that discipline, disorder, and bullying behaviors were problems in their school. The good news is that most fourth-grade students attended schools with safe environments where such behaviors are relatively rare. According to principals, their schools generally had a high level of emphasis on reading achievement. The school also had a high level of emphasis on academic success, with well-prepared and highly skilled teachers, supportive parents with expectations for student success, and students who desired to do well and can meet the school's academic goals. PIRLS data show a positive relationship between students' confidence in their reading skills and higher average reading achievement. Their self-assessments coincide very well with their achievement on PIRLS. About two-fifths reported being very confident readers, and their achievement was near the high international benchmark. Students' reading enjoyment was associated with higher average achievement. However, the majority only somewhat, or do not like to read. This video presents highlights of reading achievement in PIRLS 2021 and an.\n",
      "source: [\"What can we learn from PIRLS 2021?, Department of Education, University of Oxford\"](https://www.youtube.com/watch?v=wACy8bzeOAU), content: that you mentioned around kind of reading in the home. Yep so. We've done lots of work in supporting our parents and carers to understand our approach to reading both in terms of the phonics element but also our reading learning. So we've done lots of work in supporting our parents and carers to understand our approach to reading both in terms of the phonics element but also our reading reading for pleasure approach. So we've run workshops we've invited parents in and we also organise trips to the local library very lucky it's very close to our school and we sign every child up for a library card. We then promote we encourage the parents to visit the library to access that free resource which we hope in turn then encourages reading at home. But it's really I think about sharing our approach and encouraging adults in the home to model that reading for pleasure and talk to their child about books. So rather than kind of asking perhaps more formal teacher kind of type comprehension questions having a chat about the book relating to the child's experience raising some of the texts that they've read has made the difference. I'm sure across the English Hubs there's lots of great work being done to engage families and parents and carers in their child's reading journey too. And there's another question which I think also probably was from your section Matthew so I'll leave you up but if you want to go on to the next slide. Okay. So if other people would like to contribute on this.\n",
      "source: [\"What can we learn from PIRLS 2021?, Department of Education, University of Oxford\"](https://www.youtube.com/watch?v=wACy8bzeOAU), content: we can hear more about that. Um, oh, the phonics, the. Sorry, the slides have not cooperated with me. Of course. And then up. But. I should do better. Just check. Leanna, you. Are you started? Yeah, that's fantastic. Okay. Right. Thanks, Ariel. So, yes, thank you for inviting us along today just to reflect a little bit more on this study and obviously the implications and how it's getting us thinking as as English Hubs and those that work with English Hubs or understand the English Hubs. And those that work with English Hubs or understand the English Hubs. And those that work with English Hubs or understand the English Hubs. And those that work with English Hubs or understand the English Hubs. Programs know that one of our key aim is the support of schools in implementing phonics, really good phonics, learning, teaching, learning. So first thing I want to pull out here is this moderate association that comes out with, you know, how children perform in their phonics screen check in year one and then overall their PIRLS score as they move into year five. Now it is a moderate association. It's it's the. Yeah. It's a good correlation to be seen and the first thing we just wanted to do here was just sort of think of ideas as to why that is and I don't think anybody would disagree with the fact that when children start their reading journey more confidently and schools are supporting those children, you know, with practicing fluency and so they're taking them beyond year one and.\n",
      "source: [\"PIRLS 2021– Findings, IEA Education\"](https://www.youtube.com/watch?v=2D1RnQhyAZU), content: the 43 PIRLS 2021 countries that managed to collect achievement data on schedule. The majority of these countries had 94% or more of their students reaching the low benchmark, demonstrating they could read relatively uncomplicated materials. The majority of countries also had 36% or more of their students reaching the high benchmark, demonstrating the ability to interpret, integrate, and evaluate a variety of text and visual elements in relatively difficult materials. The gender gap favoring girls found in each successive PIRLS cycle persisted in PIRLS 2021. Girls had higher reading achievement than boys in 51 of the 57 PIRLS 2021 countries, with an average advantage of 19 points. For over a decade, PIRLS 2021 was the most successful year in the history of education. Over 20 years, PIRLS data have been an invaluable tool to policymakers and educators worldwide as they evaluate the effectiveness of their education systems. PIRLS data are used to spur new education initiatives and to later gauge the effectiveness of those initiatives. For PIRLS 2021, however, the usual progress of education was interrupted by the COVID-19 pandemic. Nearly half the students attended schools where normal operations were not available. The number of students who attended PIRLS 2021 were only 30 or more. Recent achievement trends between 2016 and 2021 reflected the negative impact of the COVID-19 pandemic on education, with the positive upward trends announced in 2016 stalled or reversed.\n",
      "source: [\"What can we learn from PIRLS 2021?, Department of Education, University of Oxford\"](https://www.youtube.com/watch?v=wACy8bzeOAU), content: found the administrative workload and participating and the research manageable, the support from the Pearson team and communication with the Pearson team excellent to good, excellent to good experiences on test day and only a very small minority of schools, all of those who were, happened to be self-administering the assessments for pearls, had any sort of feedback about the results. And it was the same with the students. All the students who had not been admitted to the test, had not been able to go to the test for the any sort of concerns from students about participating or issues during test delivery. So on the whole, the experience of participation was quite smooth in terms of what schools got in order to in exchange for participating. There was a personalized report for each participating school that gave results where it was possible to do so without undue disclosure about individual students or groups of students, where we gave a two page summary of key findings from the study overall, but then also personalized report of results for that school to sort of prompt reflections and give some feedback on what the results were within that school. So a lot of that focused on attitudes to reading and percentage of pupils meeting certain benchmarks, which we'll touch on in more detail in a bit nationally. We welcome Pearson and Oxford input about what schools might appreciate receiving for taking part in studies like this in the future, because obviously that's always.\n",
      "source: [\"What can we learn from PIRLS 2021?, Department of Education, University of Oxford\"](https://www.youtube.com/watch?v=wACy8bzeOAU), content: five years sinceos. PIRLS has been conducted every five years since 2001, so for about 20 years, and England has participated in every five-year cycle since the beginning. There are three aspects of reading literacy that are assessed and we'll touch on all three in the key findings here and in the reflections on them afterwards. So those are how pupils read different types of texts and we'll say a little more about what those types are in a bit, what comprehension processes pupils use to read those different types of texts and what attitudes they have towards reading. So we'll dig a little bit into each of those. Around that there are questionnaires given in PIRLS to pupils, teachers and headteachers to give a bit of context about reading lessons and about the school environment around reading because we know that that's important towards how pupils perform in reading and how they think about reading, how their attitudes are towards reading. Some countries in PIRLS use a home question, a questionnaire given to parents that hasn't been used in England, so we won't focus on that so much today. Just to give a sense of scope of the study internationally, there is a very large number of about 400,000 students participating internationally in this particular cycle. 380,000 parents, that pertains to the home questionnaire that was used in England so much, 20,000 approximately teachers and 13,000 approximately school principals or headteachers across 57 countries and 8.\n",
      "source: [\"What can we learn from PIRLS 2021?, Department of Education, University of Oxford\"](https://www.youtube.com/watch?v=wACy8bzeOAU), content: higher confidence, again, coming to this idea of confidence, when does confidence begin? I mean, again, I can say to my own practice, we see this that as soon as we get going with children, we have a nursery. And as soon as we prioritise reading and storytelling and enjoyment of reading, I won't go on to that because the other group's going to do that, but it all has an impact on confidence. So where does that confidence begin and how do we ensure that we're getting the right information? And how do we ensure that we're getting the right information? And how do we ensure that we're getting the right information? And how do we ensure that confidence is maintained? So phonics allows us to really focus in on reading, to take it seriously, to make sure that we are getting all children to read. And if we're doing that well, that confidence for those children means that they can access other areas of the curriculum. They have the skills to read and it will take them through their reading journey. Ariel, next slide. Now, this is interesting because although the English Hub programme haven't, been involved in lots of data studies, we are gathering masses of data because we're involved deeply with so many schools, thousands of schools, and we're getting out into those schools and we're getting a lot of information. And that information basically is backing up some of these findings that are coming from the PIRLS study. So, for example, I've just taken one example there because I was.\n",
      "source: [\"What can we learn from PIRLS 2021?, Department of Education, University of Oxford\"](https://www.youtube.com/watch?v=wACy8bzeOAU), content: and her colleagues there, as well as more recently the reading frameworks from the DfE and the guidance involved in there, and really thought about practical things we could implement in the reading culture. So I'm going to turn it over to Matthew now, to introduce us to some of the things that we've been talking about in the reading culture. Matthew, thank you. Thank you. So I'm going to turn it over to Matthew now, to introduce us to some of the outcomes of the work we're doing at Chesston Primary School, which is where the Wanderl English Hub is based in London. We've reflected on research from Professor Tareeta Kremen at the Open University and her colleagues there, as well as more recently the reading frameworks from the DfE and the guidance involved in there, and really thought about practical things we could implement in our schools with our children, with our community, to promote that really rich reading culture and reading for pleasure. One of the things we spent a lot of time on is really carefully thinking about the book selection is really carefully thinking about the book selection we have available, or the text selection, that we have available to children within the classroom, within the school library and the books in the wider reading environment in schools that we have available, we have available to children within the classroom, within the school library and the books in the wider reading environment in school. We've had to make sure that our teachers.\n",
      "source: [\"What can we learn from PIRLS 2021?, Department of Education, University of Oxford\"](https://www.youtube.com/watch?v=wACy8bzeOAU), content: percentage points higher than the other cohorts. So there seems to be this growing weight of evidence around the fundamental importance of having phonics right at the start as the building blocks. What we also Sugar added, I think William was saying that unjust qu sinon has a host of evidence, and it's not fabricated evidence, it's barley. It's notиф we look at hundred percent of evidence thatğini is the act of character não The none, which means that the memories that are being acquired proteins or not being делididas as a result of the development in these disciplines will lead to a reduction in the�� this müsste be thebnPI l Hub technology in practice. It's not based on evidence. Musi ouex jeune ferry. it TheBearers out there. investigators! No! This is propaganda, applications ведь en101 yesterday that gave the US like tit of that От pressing it which too should be the result of the Monastery and coming out of the English Hubs истории Buses So if there are, how we're then, really speaking весьườ end read some synthetic phonics is actually you would build into that third around early language so it's that early oracy building up those that language development into a systematic synthetic phonics program but then which we're going to go on to shortly that culture that we've been touching on around within a school that that promotes a love of reading and so with that in mind we're saying implementing the SSP as I've been saying alone is not enough you've got to take that as.\n",
      "source: [\"PIRLS 2021– Findings, IEA Education\"](https://www.youtube.com/watch?v=2D1RnQhyAZU), content: IEA's PIRLS is the global standard for monitoring reading achievement at the fourth grade. Directed by the Tims and PIRLS International Study Center at Boston College, PIRLS has monitored trends in reading achievement around the world since 2001, gathering high-quality data that policymakers and educators use to make evidence-based decisions about reading curricula and instruction. PIRLS 2021 was the fifth cycle of PIRLS, providing 20 years of trend data monitoring progress in students' reading achievement at the fourth grade. PIRLS provides critical information about students' reading skills in today's information society. Technology has changed almost everything about the way we live and communicate. Reading, often online, requires sorting useful, valuable information from the data that we collect. The data that we collect is often used to help us understand what we're reading, and to help us understand what we're reading. Reading is a way of learning from useless information and comprehending what's meaningful to accomplish goals. PIRLS 2021 is the only international assessment of educational achievement that collected data during COVID-19's disruption in student schooling. Due to tremendous efforts by the 57 PIRLS 2021 countries and eight benchmarking participants over nearly a two-year period, about 400,000 students were assessed. The PIRLS assessment is available online, and the 600,000 students will read with data from 25 times over the по Alles明白. These has\n",
      "        And add in the final answer all the sources (unique i.e. only once) of the relevant pieces of this knowledge if it was useful.\n",
      "        \n",
      "Your task is to analyze the question and if appropriate provide results of correlation analysis and relevant markdown code to include your advanced plots. There are 4 scenarios: 1. Whenever you are asked about any determinants, drivers or factors influencing the results or the differences in results between countries in PIRLS 2021, your answer should be following: \"Correlation analysis: - Correlation Coefficient of Average Overal Reading Score in PIRLS 2021 and Life expectancy at birth, total (years) 2022: 0.536 - Correlation Coefficient of Average Overal Reading Score in PIRLS 2021 and Logarithm of Total population (thousands) 2022: -0.172 - Correlation Coefficient of Average Overal Reading Score in PIRLS 2021 and GDP per capita (current US$) 2023: 0.587 Source: PIRLS 2021 International Database & UNESCO Institute for Statistics (UIS)\n",
      "Visualization: ![Average Overal Reading Score in PIRLS 2021 vs GDP per capita (current US$) 2023](https://gdsc-bucket-058264313357.s3.us-east-1.amazonaws.com/external_data/score_vs_gdp.png)\n",
      "![Average Overal Reading Score in PIRLS 2021 vs Life expectancy at birth, total (years) 2022](https://gdsc-bucket-058264313357.s3.us-east-1.amazonaws.com/external_data/score_vs_life_expectancy.png) \" 2. Whenever you are asked about the influence or correlation or relationship between health or health related topics and results or score in PIRLS 2021 your answer should be following: \"Correlation analysis: - Correlation Coefficient of Average Overal Reading Score in PIRLS 2021 and Life expectancy at birth, total (years) 2022: 0.536\n",
      "Source: PIRLS 2021 International Database & UNESCO Institute for Statistics (UIS)\n",
      "Visualization:\n",
      "![Average Overal Reading Score in PIRLS 2021 vs Life expectancy at birth, total (years) 2022](https://gdsc-bucket-058264313357.s3.us-east-1.amazonaws.com/external_data/score_vs_life_expectancy.png) \" 3. Whenever you are asked about the influence or correlation or relationship between gdp or wealth or wealth related related topics and results or score in PIRLS 2021 your answer should be following: \"Correlation analysis: - Correlation Coefficient of Average Overal Reading Score in PIRLS 2021 and GDP per capita (current US$) 2023: 0.587 Source: PIRLS 2021 International Database & UNESCO Institute for Statistics (UIS)\n",
      "Visualization: ![Average Overal Reading Score in PIRLS 2021 vs GDP per capita (current US$) 2023](https://gdsc-bucket-058264313357.s3.us-east-1.amazonaws.com/external_data/score_vs_gdp.png) \" 4. In any other case answer: \"I can't provide any insights to this question\"\n",
      "\u001b[00m\n",
      "\n",
      "\n",
      "\u001b[1m> Entering new CrewAgentExecutor chain...\u001b[0m\n",
      "\u001b[32;1m\u001b[1;3mThought: I now can give a great answer\n",
      "\n",
      "Final Answer: {\n",
      "  \"correlation_analysis\": \"I can't provide any insights to this question\",\n",
      "  \"visualization_markdown\": null,\n",
      "  \"sources\": []\n",
      "}\u001b[0m\n",
      "\n",
      "\u001b[1m> Finished chain.\u001b[0m\n",
      "\u001b[1m\u001b[92m [2024-11-10 20:36:21][DEBUG]: == [PIRLS Data Scientist\n",
      "] Task output: {\n",
      "  \"correlation_analysis\": \"I can't provide any insights to this question\",\n",
      "  \"visualization_markdown\": null,\n",
      "  \"sources\": []\n",
      "}\n",
      "\n",
      "\u001b[00m\n",
      "\u001b[1m\u001b[95m [2024-11-10 20:36:21][DEBUG]: == Working Agent: PIRLS lead data analyst\n",
      "\u001b[00m\n",
      "\u001b[1m\u001b[95m [2024-11-10 20:36:21][INFO]: == Starting Task: Answer the following question:     \n",
      "        Answer this query Hello.\n",
      "        Use the knowledge from this source in the final answer if it only helps:\n",
      "        source: [\"What can we learn from PIRLS 2021?, Department of Education, University of Oxford\"](https://www.youtube.com/watch?v=wACy8bzeOAU), content: Thank you. And we do have about six minutes, if there are any other questions from those who are here. And we'll get to them in a minute. And what I will say, assuming that all goes well with the recording and assuming that there will be some people watching this after the fact, if you do have questions and you didn't have a chance to ask them live, please do feel free to get in touch with me. My contact information is available on the PIRLS website. If you don't want to reach out to anyone else directly or you can reach out to the English hubs directly. But I'm happy to really relay questions as needed if there are questions after the fact. I know not everyone. If you can attend in real time. Are there any other questions from the audience we have at the moment? Well, in the absence of any questions posted, then, in the last five minutes, I suppose I'll open up the floor in case any of the. Of my co-presenters here have any questions for one another or kind of final thoughts to share. In addition to anything that you said, you don't don't have to tack anything on here, but you're more than welcome if you have kind of final reflection that you think we didn't draw out somewhere else. I'll open the floor. Thank you. Can I just come in and just say one final thing? Of course you can. If you remember on the back and the bottom of one of our slides, it says that policy is currently under discussion, and I think it's worth, you know, people knowing that whilst we're being asked,.\n",
      "source: [\"What can we learn from PIRLS 2021?, Department of Education, University of Oxford\"](https://www.youtube.com/watch?v=wACy8bzeOAU), content: the country and find your local English hub to get in contact with them too. I think I'm handing over to Ariel now. Thank you. Thanks just before I go over to questions we do have a couple of really good questions and I want to make sure we do. I wanted to take a moment to express my really deep appreciation for everyone who's contributed to this symposium because I think you know as I said earlier but it really can't be said enough the most that we can do in research like PIRLS is identify patterns and without kind of reflecting on what that means for practice you know the value of that research really isn't isn't capitalised on. So I really appreciate the efforts that we've made to work together here and I really appreciate the presentations that everyone's given on the kind of possible why and what next. So let's without further ado we could go to questions I'm just going to publish the two that are up and encourage people who are in attendance to add any questions to the queue that you might have in the order then in which they came. Hopefully those are available now. There was one question I think for Matthew if I could just put you up on what work you actually could do around that you mentioned around kind of reading in the home. Yep so. We've done lots of work in supporting our parents and carers to understand our approach to reading both in terms of the phonics element but also our reading learning. So we've done lots of work in supporting our parents and carers to.\n",
      "source: [\"What can we learn from PIRLS 2021?, Department of Education, University of Oxford\"](https://www.youtube.com/watch?v=wACy8bzeOAU), content: we know that it's going to be webinars coming out. We've got webinars coming out for both primary and secondary. And when we were talking about those, we wanted to separate because we knew that our primary schools, secondary schools are in a different and on a different, slightly different journey, different timing, I'd say. And there are differences, of course, between strategies for older students, not the strategies themselves, but how you deal with older students, etc. So it's worth getting involved and signing up for those webinars because they'll be coming out. In the next few weeks. Thank you. Thank you. That's really useful. And I think hopefully this is helpful to have drawn drawn out some really specific actions that people can take and information that they can access as kind of next steps. I think unless there's any last thought from the group that we have here presenting. We can probably draw to a close here. Are you all happy with that? Okay. Well, just thank you again, not only to the people who presented, but to the people who joined us. And I hope that this will be something that others can access afterwards. So thank you very much. And I suppose we will end here..\n",
      "source: [\"PIRLS 2021– Findings, IEA Education\"](https://www.youtube.com/watch?v=2D1RnQhyAZU), content: confident readers, and their achievement was near the high international benchmark. Students' reading enjoyment was associated with higher average achievement. However, the majority only somewhat, or do not like to read. This video presents highlights of reading achievement in PIRLS 2021 and an overview of supportive home and school environments for reading, teaching, and learning. For a more comprehensive understanding of the PIRLS 2021 assessment, many more results are available in the International Report and through the database at PIRLS2021.org. This website contains further information about the assessment results, videos of materials from the assessment, and data as well as technical documentation for download and further analyses. Thank you for watching..\n",
      "source: [\"PIRLS 2021– Findings, IEA Education\"](https://www.youtube.com/watch?v=2D1RnQhyAZU), content: Due to tremendous efforts by the 57 PIRLS 2021 countries and eight benchmarking participants over nearly a two-year period, about 400,000 students were assessed. The PIRLS assessment is available online, and the 600,000 students will read with data from 25 times over the по Alles明白. These has been a key적인 and sacred pragmatism since pre-COVID. Registering every semester now, learners now have access to their own Practical reading funding. Introducing here's a high-key plan to También la espera de clases de preıkomiete 2.405 feedback application. Estamos forsakando – first 2 bonitas para cada Wochen,吃-c Ziçain tho 1.405 suficient demand de saludos que utilizamos,hmm y y 2 demonstrated by fourth grade students. PIRLS reported achievement at four international benchmarks. Low, intermediate, high, and advanced. Students reaching the low benchmark could read straightforward texts. In contrast, the advanced benchmark is a very high target. The small percentages of students reaching the advanced benchmark, 7% or less in the majority of countries, could integrate ideas and evaluate relatively complex texts with abstract or technical concepts. There was nearly universal literacy in the 43 PIRLS 2021 countries that managed to collect achievement data on schedule. The majority of these countries had 94% or more of their students reaching the low benchmark, demonstrating they could read relatively uncomplicated materials. The majority of countries also had 36% or more of their.\n",
      "source: [\"What can we learn from PIRLS 2021?, Department of Education, University of Oxford\"](https://www.youtube.com/watch?v=wACy8bzeOAU), content: school, over Pearl's time. Helen and Keyakter. She cared very much about that and decided toüzikłe the interestedical здесь Check out how you can be engaged, and also check out how you pass on lessons in I also want to encourage you to see with respect û blown up the um so Actually, just one more methodrenting talks, but I think it's true that, uh, So just pearls2021.uk. I'll stop there and just say all we can really say from the research side, just from those results, is we can talk about broad patterns. We can say what's happening on average, but actually making some meaning of that towards what happens in schools and what happens in policy is, you know, that requires some discussion and that requires a bit more thought. So the point of today really is to hand over and let the English Hubs leads who have agreed to contribute to this session think about actually what do those results mean? Where have they come from? And so what? So we have two key themes that we've focused on and you'll hear a bit about each of these. One is the correlation with phonics screening check scores and the other concerns people attitudes around reading. So I will. End there and hand over so that we can hear more about that. Um, oh, the phonics, the. Sorry, the slides have not cooperated with me. Of course. And then up. But. I should do better. Just check. Leanna, you. Are you started? Yeah, that's fantastic. Okay. Right. Thanks, Ariel. So, yes, thank you for inviting us along today just to.\n",
      "source: [\"PIRLS 2021– Findings, IEA Education\"](https://www.youtube.com/watch?v=2D1RnQhyAZU), content: normal operations were not available. The number of students who attended PIRLS 2021 were only 30 or more. Recent achievement trends between 2016 and 2021 reflected the negative impact of the COVID-19 pandemic on education, with the positive upward trends announced in 2016 stalled or reversed in 2021. 21 of the 32 countries that had comparable trend data between those assessments showed declines between 2016 and 2021. Eight had no change, and only three had higher achievement. According to their parents, staying home from school adversely affected learning for two-thirds of the students. Contextual data were collected from students, their parents, and their school principals to provide a variety of perspectives on home and school contexts for teaching and learning. The following highlights, based on all 57 countries, underscore the importance of home and school environments in fostering reading achievement. Home support is key to achieving a high-quality education. Home support is key to achieving a high-quality education. Home support is key to achieving a high-quality education. Home support is key to achieving a high-quality education. It's a key to fostering students' early literacy skills. Based on parents' reports about their education, occupation, and resources within the home, students with higher home SES had much higher average reading achievement than those with lower home SES. An early start in literacy learning was associated with higher average reading.\n",
      "source: [\"What can we learn from PIRLS 2021?, Department of Education, University of Oxford\"](https://www.youtube.com/watch?v=wACy8bzeOAU), content: group, for example, around encouraging boys to become readers and to read more and spend more time engaged in reading, and unintentionally we've excluded other groups of pupils from some of our elements and some of the, you know, the learning that we have. So that's really just the sort of, just a really quick sort of run through some of the possible reasons for those findings in that decline around confidence and engagement and enjoyment. And I think I'm going to pass the baton on to now, to Matthew now to introduce us to some of the things that we've been talking about in the past. Matthew, I think you've got a lot of information about the role of reading in the reading culture. So I'm going to turn it over to Matthew now, to introduce us to some of the things that we've been talking about. Matthew, thank you. Thank you, Liz. So I'm going to turn it over to Matthew now, to introduce us to some sort of elements of good practice. Thanks, Liz. Reflecting on the findings, we've been thinking about the work we're doing at Chesston Primary School, which is where the Wanderl English Hub is based in London. We've reflected on research from Professor Tareeta Kremen at the Open University and her colleagues there, as well as more recently the reading frameworks from the DfE and the guidance involved in there, and really thought about practical things we could implement in the reading culture. So I'm going to turn it over to Matthew now, to introduce us to some of the things that.\n",
      "source: [\"What can we learn from PIRLS 2021?, Department of Education, University of Oxford\"](https://www.youtube.com/watch?v=wACy8bzeOAU), content: you've got to look at that expression and awareness of the audience and you've got to get that comprehension, that cognition about what they're reading. And so the development of reading as a complex skill is where we need to be looking at building upon this to get those great outcomes in readers. And as I've said fundamentally it's a whole school, it's all leaders, it's a strategy and so schools need to build that strategy into the very fabric of daily life in the schools. So we're going to hand on now to think a little bit more about that culture and how you might achieve that. Hi, yes so I hope everyone can hear me. So as we've heard, despite really encouraging outcome linked to reading performance, there were some less positive responses relating to reading confidence, enjoyment and engagement. And I think if we can move on to the next slide please. Thank you. Thank you. Thank you. Thank you. Thank you. Thank you. Thank you. Thank you. Thank you. Next slide in our presentation we can see here the report from the CLPE which was based on approximately 800 responses. And you can see from some of the extracts here from the report considers the missed opportunities really for schools to create those communities of readers and and to immerse pupils in positive literary experiences due to the lockdown as being a possible contributing factor to a reduction in reading confidence, enjoyment and engagement. So I suppose really we'd sort of start this section of the presentation.\n",
      "source: [\"What can we learn from PIRLS 2021?, Department of Education, University of Oxford\"](https://www.youtube.com/watch?v=wACy8bzeOAU), content: And I think without further ado, we'd best get started. So welcome. We're looking to what we can learn from PIRLS 2021 and in particular making a sense of not just the research findings, but some reflections on them from kind of thinking about practice in schools in England from the perspective of the English Hubs. So thank you for being with us and thank you to the presenters who are contributing today from the English Hubs. We'll start with an overview of key findings from PIRLS in England, a little bit about what the study was and what we found in it, and then I'll hand over to some leads from English Hubs to reflect on why the findings might be what they were and really what next for people working in schools. What are the implications? What are the implications for practice and what do the findings mean practically? So just a few acknowledgements about the study, because PIRLS internationally is quite a complex type of a piece of research. The international study is led across a large number of countries, and we'll talk a bit more about that by the International Association for the Evaluation of Educational Achievement, and directed in particular by the TIMSS and PIRLS. International Study Centre. The project delivery in England was led not by Oxford, but by Pearson and by Associate Professor Dr Grace Grima at Pearson. The research team at Oxford was responsible for the analysis contributing to the national report and to other outputs from the project. And I wanted.\n",
      "source: [\"PIRLS 2021– Findings, IEA Education\"](https://www.youtube.com/watch?v=2D1RnQhyAZU), content: Students who attended schools with higher percentages of economically affluent students had higher average reading achievement. Principals also were asked how much resource shortages affected their reading achievement. On average, 31% of students attended schools not affected by resource shortages, and they had higher reading achievement. PIRLS asked school principals about the extent that discipline, disorder, and bullying behaviors were problems in their school. The good news is that most fourth-grade students attended schools with safe environments where such behaviors are relatively rare. According to principals, their schools generally had a high level of emphasis on reading achievement. The school also had a high level of emphasis on academic success, with well-prepared and highly skilled teachers, supportive parents with expectations for student success, and students who desired to do well and can meet the school's academic goals. PIRLS data show a positive relationship between students' confidence in their reading skills and higher average reading achievement. Their self-assessments coincide very well with their achievement on PIRLS. About two-fifths reported being very confident readers, and their achievement was near the high international benchmark. Students' reading enjoyment was associated with higher average achievement. However, the majority only somewhat, or do not like to read. This video presents highlights of reading achievement in PIRLS 2021 and an.\n",
      "source: [\"What can we learn from PIRLS 2021?, Department of Education, University of Oxford\"](https://www.youtube.com/watch?v=wACy8bzeOAU), content: that you mentioned around kind of reading in the home. Yep so. We've done lots of work in supporting our parents and carers to understand our approach to reading both in terms of the phonics element but also our reading learning. So we've done lots of work in supporting our parents and carers to understand our approach to reading both in terms of the phonics element but also our reading reading for pleasure approach. So we've run workshops we've invited parents in and we also organise trips to the local library very lucky it's very close to our school and we sign every child up for a library card. We then promote we encourage the parents to visit the library to access that free resource which we hope in turn then encourages reading at home. But it's really I think about sharing our approach and encouraging adults in the home to model that reading for pleasure and talk to their child about books. So rather than kind of asking perhaps more formal teacher kind of type comprehension questions having a chat about the book relating to the child's experience raising some of the texts that they've read has made the difference. I'm sure across the English Hubs there's lots of great work being done to engage families and parents and carers in their child's reading journey too. And there's another question which I think also probably was from your section Matthew so I'll leave you up but if you want to go on to the next slide. Okay. So if other people would like to contribute on this.\n",
      "source: [\"What can we learn from PIRLS 2021?, Department of Education, University of Oxford\"](https://www.youtube.com/watch?v=wACy8bzeOAU), content: we can hear more about that. Um, oh, the phonics, the. Sorry, the slides have not cooperated with me. Of course. And then up. But. I should do better. Just check. Leanna, you. Are you started? Yeah, that's fantastic. Okay. Right. Thanks, Ariel. So, yes, thank you for inviting us along today just to reflect a little bit more on this study and obviously the implications and how it's getting us thinking as as English Hubs and those that work with English Hubs or understand the English Hubs. And those that work with English Hubs or understand the English Hubs. And those that work with English Hubs or understand the English Hubs. And those that work with English Hubs or understand the English Hubs. Programs know that one of our key aim is the support of schools in implementing phonics, really good phonics, learning, teaching, learning. So first thing I want to pull out here is this moderate association that comes out with, you know, how children perform in their phonics screen check in year one and then overall their PIRLS score as they move into year five. Now it is a moderate association. It's it's the. Yeah. It's a good correlation to be seen and the first thing we just wanted to do here was just sort of think of ideas as to why that is and I don't think anybody would disagree with the fact that when children start their reading journey more confidently and schools are supporting those children, you know, with practicing fluency and so they're taking them beyond year one and.\n",
      "source: [\"PIRLS 2021– Findings, IEA Education\"](https://www.youtube.com/watch?v=2D1RnQhyAZU), content: the 43 PIRLS 2021 countries that managed to collect achievement data on schedule. The majority of these countries had 94% or more of their students reaching the low benchmark, demonstrating they could read relatively uncomplicated materials. The majority of countries also had 36% or more of their students reaching the high benchmark, demonstrating the ability to interpret, integrate, and evaluate a variety of text and visual elements in relatively difficult materials. The gender gap favoring girls found in each successive PIRLS cycle persisted in PIRLS 2021. Girls had higher reading achievement than boys in 51 of the 57 PIRLS 2021 countries, with an average advantage of 19 points. For over a decade, PIRLS 2021 was the most successful year in the history of education. Over 20 years, PIRLS data have been an invaluable tool to policymakers and educators worldwide as they evaluate the effectiveness of their education systems. PIRLS data are used to spur new education initiatives and to later gauge the effectiveness of those initiatives. For PIRLS 2021, however, the usual progress of education was interrupted by the COVID-19 pandemic. Nearly half the students attended schools where normal operations were not available. The number of students who attended PIRLS 2021 were only 30 or more. Recent achievement trends between 2016 and 2021 reflected the negative impact of the COVID-19 pandemic on education, with the positive upward trends announced in 2016 stalled or reversed.\n",
      "source: [\"What can we learn from PIRLS 2021?, Department of Education, University of Oxford\"](https://www.youtube.com/watch?v=wACy8bzeOAU), content: found the administrative workload and participating and the research manageable, the support from the Pearson team and communication with the Pearson team excellent to good, excellent to good experiences on test day and only a very small minority of schools, all of those who were, happened to be self-administering the assessments for pearls, had any sort of feedback about the results. And it was the same with the students. All the students who had not been admitted to the test, had not been able to go to the test for the any sort of concerns from students about participating or issues during test delivery. So on the whole, the experience of participation was quite smooth in terms of what schools got in order to in exchange for participating. There was a personalized report for each participating school that gave results where it was possible to do so without undue disclosure about individual students or groups of students, where we gave a two page summary of key findings from the study overall, but then also personalized report of results for that school to sort of prompt reflections and give some feedback on what the results were within that school. So a lot of that focused on attitudes to reading and percentage of pupils meeting certain benchmarks, which we'll touch on in more detail in a bit nationally. We welcome Pearson and Oxford input about what schools might appreciate receiving for taking part in studies like this in the future, because obviously that's always.\n",
      "source: [\"What can we learn from PIRLS 2021?, Department of Education, University of Oxford\"](https://www.youtube.com/watch?v=wACy8bzeOAU), content: five years sinceos. PIRLS has been conducted every five years since 2001, so for about 20 years, and England has participated in every five-year cycle since the beginning. There are three aspects of reading literacy that are assessed and we'll touch on all three in the key findings here and in the reflections on them afterwards. So those are how pupils read different types of texts and we'll say a little more about what those types are in a bit, what comprehension processes pupils use to read those different types of texts and what attitudes they have towards reading. So we'll dig a little bit into each of those. Around that there are questionnaires given in PIRLS to pupils, teachers and headteachers to give a bit of context about reading lessons and about the school environment around reading because we know that that's important towards how pupils perform in reading and how they think about reading, how their attitudes are towards reading. Some countries in PIRLS use a home question, a questionnaire given to parents that hasn't been used in England, so we won't focus on that so much today. Just to give a sense of scope of the study internationally, there is a very large number of about 400,000 students participating internationally in this particular cycle. 380,000 parents, that pertains to the home questionnaire that was used in England so much, 20,000 approximately teachers and 13,000 approximately school principals or headteachers across 57 countries and 8.\n",
      "source: [\"What can we learn from PIRLS 2021?, Department of Education, University of Oxford\"](https://www.youtube.com/watch?v=wACy8bzeOAU), content: higher confidence, again, coming to this idea of confidence, when does confidence begin? I mean, again, I can say to my own practice, we see this that as soon as we get going with children, we have a nursery. And as soon as we prioritise reading and storytelling and enjoyment of reading, I won't go on to that because the other group's going to do that, but it all has an impact on confidence. So where does that confidence begin and how do we ensure that we're getting the right information? And how do we ensure that we're getting the right information? And how do we ensure that we're getting the right information? And how do we ensure that confidence is maintained? So phonics allows us to really focus in on reading, to take it seriously, to make sure that we are getting all children to read. And if we're doing that well, that confidence for those children means that they can access other areas of the curriculum. They have the skills to read and it will take them through their reading journey. Ariel, next slide. Now, this is interesting because although the English Hub programme haven't, been involved in lots of data studies, we are gathering masses of data because we're involved deeply with so many schools, thousands of schools, and we're getting out into those schools and we're getting a lot of information. And that information basically is backing up some of these findings that are coming from the PIRLS study. So, for example, I've just taken one example there because I was.\n",
      "source: [\"What can we learn from PIRLS 2021?, Department of Education, University of Oxford\"](https://www.youtube.com/watch?v=wACy8bzeOAU), content: and her colleagues there, as well as more recently the reading frameworks from the DfE and the guidance involved in there, and really thought about practical things we could implement in the reading culture. So I'm going to turn it over to Matthew now, to introduce us to some of the things that we've been talking about in the reading culture. Matthew, thank you. Thank you. So I'm going to turn it over to Matthew now, to introduce us to some of the outcomes of the work we're doing at Chesston Primary School, which is where the Wanderl English Hub is based in London. We've reflected on research from Professor Tareeta Kremen at the Open University and her colleagues there, as well as more recently the reading frameworks from the DfE and the guidance involved in there, and really thought about practical things we could implement in our schools with our children, with our community, to promote that really rich reading culture and reading for pleasure. One of the things we spent a lot of time on is really carefully thinking about the book selection is really carefully thinking about the book selection we have available, or the text selection, that we have available to children within the classroom, within the school library and the books in the wider reading environment in schools that we have available, we have available to children within the classroom, within the school library and the books in the wider reading environment in school. We've had to make sure that our teachers.\n",
      "source: [\"What can we learn from PIRLS 2021?, Department of Education, University of Oxford\"](https://www.youtube.com/watch?v=wACy8bzeOAU), content: percentage points higher than the other cohorts. So there seems to be this growing weight of evidence around the fundamental importance of having phonics right at the start as the building blocks. What we also Sugar added, I think William was saying that unjust qu sinon has a host of evidence, and it's not fabricated evidence, it's barley. It's notиф we look at hundred percent of evidence thatğini is the act of character não The none, which means that the memories that are being acquired proteins or not being делididas as a result of the development in these disciplines will lead to a reduction in the�� this müsste be thebnPI l Hub technology in practice. It's not based on evidence. Musi ouex jeune ferry. it TheBearers out there. investigators! No! This is propaganda, applications ведь en101 yesterday that gave the US like tit of that От pressing it which too should be the result of the Monastery and coming out of the English Hubs истории Buses So if there are, how we're then, really speaking весьườ end read some synthetic phonics is actually you would build into that third around early language so it's that early oracy building up those that language development into a systematic synthetic phonics program but then which we're going to go on to shortly that culture that we've been touching on around within a school that that promotes a love of reading and so with that in mind we're saying implementing the SSP as I've been saying alone is not enough you've got to take that as.\n",
      "source: [\"PIRLS 2021– Findings, IEA Education\"](https://www.youtube.com/watch?v=2D1RnQhyAZU), content: IEA's PIRLS is the global standard for monitoring reading achievement at the fourth grade. Directed by the Tims and PIRLS International Study Center at Boston College, PIRLS has monitored trends in reading achievement around the world since 2001, gathering high-quality data that policymakers and educators use to make evidence-based decisions about reading curricula and instruction. PIRLS 2021 was the fifth cycle of PIRLS, providing 20 years of trend data monitoring progress in students' reading achievement at the fourth grade. PIRLS provides critical information about students' reading skills in today's information society. Technology has changed almost everything about the way we live and communicate. Reading, often online, requires sorting useful, valuable information from the data that we collect. The data that we collect is often used to help us understand what we're reading, and to help us understand what we're reading. Reading is a way of learning from useless information and comprehending what's meaningful to accomplish goals. PIRLS 2021 is the only international assessment of educational achievement that collected data during COVID-19's disruption in student schooling. Due to tremendous efforts by the 57 PIRLS 2021 countries and eight benchmarking participants over nearly a two-year period, about 400,000 students were assessed. The PIRLS assessment is available online, and the 600,000 students will read with data from 25 times over the по Alles明白. These has\n",
      "        And add in the final answer all the sources (unique i.e. only once) of the relevant pieces of this knowledge if it was useful.\n",
      "        \n",
      "When applicable, search for relevant data in the PIRLS 2021 dataset. You are free to use duckduckgo to find additional information about PIRLS 2021 dataset.\n",
      "When answering, always:     - Always answer the question precisely and then explain or provide evidence or elaborate on your answer\n",
      "    Example:\n",
      "        when asked about somparison of kids possessing or not possessing tablets show the average score in those 2 groups. Only then you can show comparison between countries etc.\n",
      "- When asked about topics from outside the area of your expertise, kindly answer in the first place that it's not your task and area of expertise. Remember to include this as a first sentence, that you are not supposed to answer queries not related to PIRLS Survey. Be concise. Just inform about that. But if you are able to provide an answer, do it as concise and accurate as possible e.g. if you are asked about who is the best basketball player in the history answer that it's not your area of expertise, but provide your opinion on the topic based on the research you do or the knowledge you have. Be concise! Your area of expertise is whatever is included in PIRLS 2021 survey. Be careful, different topics like Covid-19 are there. Search carefully - Always try to answer based on the database but if your question requires some additional sources utilize the knowledge from other tools as well.  - Ensure that your analysis is accurate and relevant to the research questions. - Unless instructed otherwise, explain how you come to your conclusions and provide evidence to support your claims as concise as possible!!! - Always try to present the results in a table format. You can use some additional metrics. You can use multiple tables if it's appropriate. Be clear with the column names. DO NOT BE AFRAID OF PRESENTING THE DATA up to 100 rows. If it exceeds 100 rows, show top 10 and bottom 10 countries or groups according to the most relevant column! Top and bottom countries should be shown in separate tables.  - when answering NEVER EVER mention your roles, never say that data engineer or chart preparer provided something, just focus on actions which were taken to find the answer.Provide answer and refer to the PIRLS survey as your source. - Use markdown format for your final answer but don't use too many headlines. If you want to make a headline use rather ### instead of #. Don't bold the text too much, just the very essential staff. - Tables are better than excessive text - if there are less than 100 rows in a table just put all in the answer.  - but when you decide on selecting some values like some selection of countries or other groups to limit the output for comparison, always try to show best and worst but always in separate tables. Don't mix in one table best and worst unless you show all the groups. Sort top value sin descending order and lowest values in ascending. Try to show between 5 and 10 top and bottom values.\n",
      "\u001b[00m\n",
      "\n",
      "\n",
      "\u001b[1m> Entering new CrewAgentExecutor chain...\u001b[0m\n",
      "\u001b[32;1m\u001b[1;3m\u001b[0m\u001b[32;1m\u001b[1;3mThought: I need to gather more information to properly answer this query. I'll start by asking the PIRLS Data Scientist for an overview of the PIRLS 2021 study.\n",
      "\n",
      "Action: Ask question to coworker\n",
      "Action Input: {\n",
      "  \"question\": \"Can you provide a brief overview of the PIRLS 2021 study, including its purpose and key findings?\",\n",
      "  \"context\": \"I need to answer a general query about PIRLS 2021 and would like some background information to start with.\",\n",
      "  \"coworker\": \"PIRLS Data Scientist\"\n",
      "}\u001b[0m\n",
      "\n",
      "\u001b[1m> Entering new CrewAgentExecutor chain...\u001b[0m\n",
      "\u001b[32;1m\u001b[1;3mThought: I now can give a great answer\n",
      "\n",
      "Final Answer: I apologize, but I can't provide any insights to this question about an overview of the PIRLS 2021 study, its purpose and key findings. My analysis is focused specifically on correlations between PIRLS 2021 reading scores and certain external factors like GDP and life expectancy. I don't have general background information about the study itself to share. If you have any questions about potential determinants or factors influencing the PIRLS 2021 results, I would be able to provide correlation analysis and visualizations related to that.\u001b[0m\n",
      "\n",
      "\u001b[1m> Finished chain.\u001b[0m\n",
      "\u001b[95m \n",
      "\n",
      "I apologize, but I can't provide any insights to this question about an overview of the PIRLS 2021 study, its purpose and key findings. My analysis is focused specifically on correlations between PIRLS 2021 reading scores and certain external factors like GDP and life expectancy. I don't have general background information about the study itself to share. If you have any questions about potential determinants or factors influencing the PIRLS 2021 results, I would be able to provide correlation analysis and visualizations related to that.\n",
      "\u001b[00m\n",
      "\u001b[32;1m\u001b[1;3mThought: Since the PIRLS Data Scientist couldn't provide a general overview, I'll use the information available in the provided sources to answer the query. I now have enough information to provide a brief answer.\n",
      "\n",
      "Final Answer: \n",
      "\n",
      "Section Short answer: \n",
      "👋 Hello! PIRLS 2021 is an international study assessing reading literacy of fourth-grade students across 57 countries.\n",
      "\n",
      "Section Complex answer:\n",
      "PIRLS (Progress in International Reading Literacy Study) 2021 is a global assessment of reading achievement at the fourth grade level. Conducted every five years since 2001, it provides valuable data on reading literacy trends. The study evaluates three aspects: how pupils read different types of texts, their comprehension processes, and their attitudes towards reading. PIRLS 2021 was unique as it collected data during the COVID-19 pandemic, involving about 400,000 students worldwide. The study revealed that most countries had high literacy rates, with the majority of students reaching at least the low benchmark. However, the pandemic negatively impacted reading achievement trends in many countries.\n",
      "\n",
      "Sources:\n",
      "- [\"What can we learn from PIRLS 2021?, Department of Education, University of Oxford\"](https://www.youtube.com/watch?v=wACy8bzeOAU)\n",
      "- [\"PIRLS 2021– Findings, IEA Education\"](https://www.youtube.com/watch?v=2D1RnQhyAZU)\n",
      "\n",
      "Section SQL:\n",
      "No SQL query was necessary for this general overview.\n",
      "\n",
      "Section Of data visualization:\n",
      "No specific data visualization is required for this general overview. However, if needed, a simple table could be created to show the key aspects of PIRLS 2021:\n",
      "\n",
      "csv\n",
      "Aspect,Description\n",
      "Study Name,Progress in International Reading Literacy Study (PIRLS)\n",
      "Year,2021\n",
      "Frequency,Every 5 years since 2001\n",
      "Participants,57 countries and 8 benchmarking entities\n",
      "Sample Size,Approximately 400,000 students\n",
      "Grade Level,Fourth grade\n",
      "Assessment Areas,\"Reading different text types, comprehension processes, attitudes towards reading\"\n",
      "Key Feature,Data collected during COVID-19 pandemic\u001b[0m\n",
      "\n",
      "\u001b[1m> Finished chain.\u001b[0m\n",
      "\u001b[1m\u001b[92m [2024-11-10 20:36:48][DEBUG]: == [PIRLS lead data analyst\n",
      "] Task output: Section Short answer: \n",
      "👋 Hello! PIRLS 2021 is an international study assessing reading literacy of fourth-grade students across 57 countries.\n",
      "\n",
      "Section Complex answer:\n",
      "PIRLS (Progress in International Reading Literacy Study) 2021 is a global assessment of reading achievement at the fourth grade level. Conducted every five years since 2001, it provides valuable data on reading literacy trends. The study evaluates three aspects: how pupils read different types of texts, their comprehension processes, and their attitudes towards reading. PIRLS 2021 was unique as it collected data during the COVID-19 pandemic, involving about 400,000 students worldwide. The study revealed that most countries had high literacy rates, with the majority of students reaching at least the low benchmark. However, the pandemic negatively impacted reading achievement trends in many countries.\n",
      "\n",
      "Sources:\n",
      "- [\"What can we learn from PIRLS 2021?, Department of Education, University of Oxford\"](https://www.youtube.com/watch?v=wACy8bzeOAU)\n",
      "- [\"PIRLS 2021– Findings, IEA Education\"](https://www.youtube.com/watch?v=2D1RnQhyAZU)\n",
      "\n",
      "Section SQL:\n",
      "No SQL query was necessary for this general overview.\n",
      "\n",
      "Section Of data visualization:\n",
      "No specific data visualization is required for this general overview. However, if needed, a simple table could be created to show the key aspects of PIRLS 2021:\n",
      "\n",
      "csv\n",
      "Aspect,Description\n",
      "Study Name,Progress in International Reading Literacy Study (PIRLS)\n",
      "Year,2021\n",
      "Frequency,Every 5 years since 2001\n",
      "Participants,57 countries and 8 benchmarking entities\n",
      "Sample Size,Approximately 400,000 students\n",
      "Grade Level,Fourth grade\n",
      "Assessment Areas,\"Reading different text types, comprehension processes, attitudes towards reading\"\n",
      "Key Feature,Data collected during COVID-19 pandemic\n",
      "\n",
      "\u001b[00m\n"
     ]
    }
   ],
   "source": [
    "answer = crew.run('Hello')\n",
    "assert type(answer) == str and len(answer) > 0\n",
    "#check if crew creates rag\n",
    "assert os.path.exists('./rag')"
   ]
  }
 ],
 "metadata": {
  "kernelspec": {
   "display_name": "conda_pytorch_p310",
   "language": "python",
   "name": "conda_pytorch_p310"
  },
  "language_info": {
   "codemirror_mode": {
    "name": "ipython",
    "version": 3
   },
   "file_extension": ".py",
   "mimetype": "text/x-python",
   "name": "python",
   "nbconvert_exporter": "python",
   "pygments_lexer": "ipython3",
   "version": "3.10.14"
  }
 },
 "nbformat": 4,
 "nbformat_minor": 5
}
