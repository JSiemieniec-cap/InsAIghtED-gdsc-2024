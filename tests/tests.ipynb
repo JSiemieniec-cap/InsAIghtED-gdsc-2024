{
 "cells": [
  {
   "cell_type": "code",
   "execution_count": 1,
   "id": "cc03622b-b58e-45fb-bf32-858795377c0c",
   "metadata": {},
   "outputs": [],
   "source": [
    "#This file contains tests covering the main functionality."
   ]
  },
  {
   "cell_type": "code",
   "execution_count": null,
   "id": "cb1d5e1c-16fe-40d4-be0c-cdda0af4fbc6",
   "metadata": {
    "scrolled": true,
    "tags": []
   },
   "outputs": [],
   "source": [
    "!pip install -r ../requirements.txt"
   ]
  },
  {
   "cell_type": "code",
   "execution_count": null,
   "id": "7799ee9a-0e21-43e3-ae45-0cec6a135ae3",
   "metadata": {
    "scrolled": true,
    "tags": []
   },
   "outputs": [],
   "source": [
    "!pip install pytest"
   ]
  },
  {
   "cell_type": "code",
   "execution_count": 4,
   "id": "5a4e6e30-09f5-4be9-a6c4-b6eb553aba2a",
   "metadata": {
    "tags": []
   },
   "outputs": [],
   "source": [
    "#pip install packaging"
   ]
  },
  {
   "cell_type": "code",
   "execution_count": 5,
   "id": "a288d1d3-63b1-4c0c-b865-350b23b51235",
   "metadata": {
    "tags": []
   },
   "outputs": [
    {
     "data": {
      "text/plain": [
       "True"
      ]
     },
     "execution_count": 5,
     "metadata": {},
     "output_type": "execute_result"
    }
   ],
   "source": [
    "import dotenv\n",
    "dotenv.load_dotenv()"
   ]
  },
  {
   "cell_type": "code",
   "execution_count": null,
   "id": "6ebe8df9-8e87-4a7e-bc64-7b80044d248e",
   "metadata": {
    "tags": []
   },
   "outputs": [],
   "source": [
    "import os\n",
    "import sys \n",
    "\n",
    "sys.path.append('../')\n",
    "os.getcwd()"
   ]
  },
  {
   "cell_type": "code",
   "execution_count": null,
   "id": "e88f0ccd-f33f-46de-95c9-eb5f67ba3110",
   "metadata": {
    "tags": []
   },
   "outputs": [],
   "source": [
    "from src.submission import create_submission\n",
    "crew = create_submission.create_submission(12321)"
   ]
  },
  {
   "cell_type": "code",
   "execution_count": 8,
   "id": "9565c89f-4842-4bc8-8aec-0aba3c576bff",
   "metadata": {
    "tags": []
   },
   "outputs": [],
   "source": [
    "import crewai\n",
    "\n",
    "assert type(crew.crew()) == crewai.crew.Crew\n",
    "\n",
    "assert '../src/submission/config/agents_rag_gdp.yaml' in str(crew.original_agents_config_path)\n",
    "assert '../src/submission/config/tasks_rag_gdp.yaml' in str(crew.original_tasks_config_path)\n",
    "\n",
    "agent_config = crew.agents_config\n",
    "\n",
    "assert crew.is_crew_class\n",
    "\n",
    "assert len(crew.agents) == 4\n",
    "assert 'lead_data_analyst' in agent_config.keys()\n",
    "assert 'data_engineer' in agent_config.keys()\n",
    "assert 'chart_preparer' in agent_config.keys()\n",
    "assert 'data_scientist' in agent_config.keys()\n",
    "\n",
    "assert len(crew.tasks) == 2\n",
    "assert 'data_science_task' in crew.tasks_config.keys()\n",
    "assert 'answer_question_task' in crew.tasks_config.keys()\n",
    "\n",
    "assert 'role' in agent_config['lead_data_analyst'] and 'goal' in agent_config['lead_data_analyst'] and 'backstory' in agent_config['lead_data_analyst']\n",
    "assert 'role' in agent_config['data_engineer'] and 'goal' in agent_config['data_engineer'] and 'backstory' in agent_config['data_engineer']\n",
    "assert 'role' in agent_config['chart_preparer'] and 'goal' in agent_config['chart_preparer'] and 'backstory' in agent_config['chart_preparer']\n",
    "assert 'role' in agent_config['data_scientist'] and 'goal' in agent_config['data_scientist'] and 'backstory' in agent_config['data_scientist']\n",
    "\n",
    "assert 'description' in crew.tasks_config['data_science_task'].keys() and 'expected_output' in crew.tasks_config['data_science_task'].keys()\n",
    "assert 'description' in crew.tasks_config['answer_question_task'].keys() and 'expected_output' in crew.tasks_config['answer_question_task'].keys()\n",
    "\n",
    "\n",
    "assert type(crew.lead_data_analyst()) == crewai.agent.Agent\n",
    "assert type(crew.data_engineer()) == crewai.agent.Agent\n",
    "assert type(crew.chart_preparer()) == crewai.agent.Agent\n",
    "assert type(crew.data_scientist()) == crewai.agent.Agent\n",
    "\n",
    "assert type(crew.data_science_task()) == crewai.task.Task\n",
    "assert type(crew.answer_question_task()) == crewai.task.Task\n"
   ]
  },
  {
   "cell_type": "code",
   "execution_count": 9,
   "id": "487c35f9-027c-4061-a472-cab014d2849a",
   "metadata": {
    "tags": []
   },
   "outputs": [],
   "source": [
    "query = 'Is it possible to cook a cake?'\n",
    "answer = ''' Yes, you can absolutely cook a cake! In fact, baking a cake is one of the most common ways to make it. The process typically involves mixing ingredients like flour, sugar, eggs, butter or oil, and a leavening agent (like baking powder) to create a batter, then baking it in the oven at a controlled temperature.\n",
    "\n",
    "However, \"cooking\" a cake can refer to some alternative methods, especially if you don’t have an oven. Here are a few options:\n",
    "\n",
    "Microwave Cake: You can make mug cakes by combining a small portion of cake batter in a mug and microwaving it for a minute or so. Microwave cakes cook quickly but tend to be denser than oven-baked cakes.\n",
    "\n",
    "Stovetop Cake: Using a heavy pan or a skillet, you can cook a cake on the stovetop. Often, a pot or a Dutch oven is used to simulate oven-like conditions. You'll need low, even heat and might need to flip the cake midway.\n",
    "\n",
    "Steamed Cake: In some cuisines, cakes are steamed rather than baked. The batter is placed in a pan, which is then set in a steamer. This method results in a moist, soft cake and is often used for specific cake recipes, like Chinese sponge cakes.\n",
    "\n",
    "Slow Cooker Cake: A slow cooker can also be used to “bake” a cake by cooking it on low heat over a long period, resulting in a soft, tender cake. This method works particularly well for dense cakes, like chocolate lava cake or pudding cake.\n",
    "\n",
    "Each method has a slightly different result, but all are ways to \"cook\" a cake!'''"
   ]
  },
  {
   "cell_type": "code",
   "execution_count": 10,
   "id": "31008ee5-2ea9-4c1e-8bc9-b97ae0abccef",
   "metadata": {
    "tags": []
   },
   "outputs": [
    {
     "name": "stderr",
     "output_type": "stream",
     "text": [
      "2024-11-10 20:36:13,068 - INFO - Found credentials from IAM Role: BaseNotebookInstanceEc2InstanceRole\n"
     ]
    }
   ],
   "source": [
    "assert type(crew.short_answer(query,answer)) == str\n",
    "assert type(crew.complex_answer(query,answer)) == str\n",
    "# If there is no relevant data in PIRLS database for visualization purpose to answer the query return only empty string: ''.\n",
    "assert crew.data_chart_answer(query, answer) == \"''\"\n",
    "plot_code = crew.data_chart_answer('Compare revenues for companies: X = 125, Y = 250, Z = 155', answer = \"Here's a comparison of the revenues for companies X, Y, and Z: Company Y has the highest revenue at 250. Company Z follows with a revenue of 155. Company X has the lowest revenue, at 125.\")\n",
    "assert \"matplotlib\" in plot_code\n",
    "assert '.s3.amazonaws.com' in crew.make_a_chart(code = plot_code)\n",
    "assert type(crew.dad_joke(query= 'How was your day?',answer = 'It was a good day')) == str\n",
    "assert type(crew.random_string(20)) == str\n",
    "assert len(crew.random_string(20)) == 20\n",
    "\n",
    "assert \"no markdown\" in crew.extract_markdown_data_scientist(answer)\n",
    "\n",
    "\n",
    "markdown = '''\n",
    "\n",
    "> #### Short answer\n",
    "\n",
    "# Company Revenue Comparison\n",
    "\n",
    "This is a comparison of revenues for three companies: **Company X**, **Company Y**, and **Company Z**.\n",
    "\n",
    "> #### Data visualization\n",
    "\n",
    "![\"Comparison\"](https://my-bucket-12345.s3.amazonaws.com/comparison)\n",
    "'''\n",
    "\n",
    "assert crew.extract_markdown_data_scientist(markdown) == '![\"Comparison\"](https://my-bucket-12345.s3.amazonaws.com/comparison)'"
   ]
  },
  {
   "cell_type": "code",
   "execution_count": null,
   "id": "450bb728-8e3a-48d9-80c3-5744840f99f6",
   "metadata": {
    "scrolled": true,
    "tags": []
   },
   "outputs": [],
   "source": [
    "answer = crew.run('Hello')\n",
    "assert type(answer) == str and len(answer) > 0\n",
    "#check if crew creates rag\n",
    "assert os.path.exists('./rag')"
   ]
  }
 ],
 "metadata": {
  "kernelspec": {
   "display_name": "conda_pytorch_p310",
   "language": "python",
   "name": "conda_pytorch_p310"
  },
  "language_info": {
   "codemirror_mode": {
    "name": "ipython",
    "version": 3
   },
   "file_extension": ".py",
   "mimetype": "text/x-python",
   "name": "python",
   "nbconvert_exporter": "python",
   "pygments_lexer": "ipython3",
   "version": "3.10.14"
  }
 },
 "nbformat": 4,
 "nbformat_minor": 5
}
