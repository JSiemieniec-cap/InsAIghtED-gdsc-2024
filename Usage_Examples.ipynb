{
 "cells": [
  {
   "cell_type": "code",
   "execution_count": null,
   "id": "ec41ea86-505d-4a66-a81e-3a155fc1bc89",
   "metadata": {
    "scrolled": true,
    "tags": []
   },
   "outputs": [],
   "source": [
    "!pip install -r ./requirements.txt"
   ]
  },
  {
   "cell_type": "code",
   "execution_count": null,
   "id": "4ec228b6-19d7-4ea2-82eb-d756383e98c3",
   "metadata": {
    "tags": []
   },
   "outputs": [],
   "source": [
    "import dotenv\n",
    "\n",
    "#Utils\n",
    "from src.static.ChatBedrockWrapper import ChatBedrockWrapper\n",
    "from src.static.submission import Submission\n",
    "# main function\n",
    "from src.submission.crews.advanced_PIRLS_crew_rag_gdp import AdvancedPIRLSCrew\n",
    "\n",
    "dotenv.load_dotenv()"
   ]
  },
  {
   "cell_type": "code",
   "execution_count": null,
   "id": "2e97556a-35bb-4043-a360-ba8bb7b42686",
   "metadata": {
    "tags": []
   },
   "outputs": [],
   "source": [
    "# allows displaying the proper formats\n",
    "from IPython.display import display, Markdown"
   ]
  },
  {
   "cell_type": "markdown",
   "id": "c4c26a55-ca2d-47f2-adcc-0bb4a89eecbe",
   "metadata": {
    "tags": []
   },
   "source": [
    "# set up Large language model and Crew of Agents"
   ]
  },
  {
   "cell_type": "code",
   "execution_count": null,
   "id": "e54f2748-5dde-42de-8850-a7609f436635",
   "metadata": {
    "tags": []
   },
   "outputs": [],
   "source": [
    "llm = ChatBedrockWrapper(\n",
    "        model_id=\"anthropic.claude-3-5-sonnet-20240620-v1:0\",#\"anthropic.claude-3-5-sonnet-20240620-v1:0\",#'anthropic.claude-3-haiku-20240307-v1:0',\n",
    "        model_kwargs={'temperature': 0, 'max_tokens': 200000},\n",
    "        call_id=12321\n",
    "    )\n",
    "crew = AdvancedPIRLSCrew(llm=llm)"
   ]
  },
  {
   "cell_type": "markdown",
   "id": "5a192143-db26-46b8-b038-fb97054cc354",
   "metadata": {
    "tags": []
   },
   "source": [
    "# Examples"
   ]
  },
  {
   "cell_type": "markdown",
   "id": "c0157baa-9e7e-4f58-be3a-99bad938f0d7",
   "metadata": {
    "tags": []
   },
   "source": [
    "## Example 1"
   ]
  },
  {
   "cell_type": "code",
   "execution_count": null,
   "id": "c68733a6-0f15-4b5d-adca-f10989b6de1b",
   "metadata": {
    "tags": []
   },
   "outputs": [],
   "source": [
    "%%time\n",
    "query = \"Which country had a reading score closest to 547 for fourth-grade students in the PIRLS 2021 study?\"\n",
    "answer = crew.run(query)\n",
    "\n",
    "display(Markdown(answer))"
   ]
  },
  {
   "cell_type": "markdown",
   "id": "8c3b7742-2ed1-4106-8126-e030a9f9ed48",
   "metadata": {},
   "source": [
    "## Example 2"
   ]
  },
  {
   "cell_type": "code",
   "execution_count": null,
   "id": "5db3e816-3cf2-4428-97d0-d0a119b61110",
   "metadata": {
    "tags": []
   },
   "outputs": [],
   "source": [
    "%%time\n",
    "query = \"What percentage of students in South Africa reached the Intermediate International Benchmark in the PIRLS 2021 study\"\n",
    "answer = crew.run(query)\n",
    "\n",
    "display(Markdown(answer))"
   ]
  },
  {
   "cell_type": "markdown",
   "id": "dbb18b43-82a7-4772-b277-9db90896c5a5",
   "metadata": {},
   "source": [
    "## Example 3"
   ]
  },
  {
   "cell_type": "code",
   "execution_count": null,
   "id": "57fefc82-d3b5-4850-805d-35d625ca17d9",
   "metadata": {
    "tags": []
   },
   "outputs": [],
   "source": [
    "%%time\n",
    "query = \"How many students participated in PIRLS 2021?\"\n",
    "answer = crew.run(query)\n",
    "\n",
    "display(Markdown(answer))"
   ]
  },
  {
   "cell_type": "markdown",
   "id": "b1c1f5d6-a681-41c1-88a6-e0c45f9b040e",
   "metadata": {},
   "source": [
    "## Example 4"
   ]
  },
  {
   "cell_type": "code",
   "execution_count": null,
   "id": "566cbf40-6c4f-48e8-93e9-7ba4f441cc4a",
   "metadata": {
    "tags": []
   },
   "outputs": [],
   "source": [
    "%%time\n",
    "query = \"Give me an overview about bullying at schools and explore different results per country.\"\n",
    "answer = crew.run(query)\n",
    "\n",
    "display(Markdown(answer))"
   ]
  },
  {
   "cell_type": "markdown",
   "id": "3759c146-108b-4c57-9ed4-81bd88cc8be3",
   "metadata": {
    "tags": []
   },
   "source": [
    "## Example 5"
   ]
  },
  {
   "cell_type": "code",
   "execution_count": null,
   "id": "6a1ab0e1-7e84-4fe8-a0ca-115bb703eec4",
   "metadata": {
    "tags": []
   },
   "outputs": [],
   "source": [
    "%%time\n",
    "query = \"What are the results of Polish students?\"\n",
    "answer = crew.run(query)\n",
    "\n",
    "display(Markdown(answer))"
   ]
  },
  {
   "cell_type": "markdown",
   "id": "e55b9ca4-5793-4df5-987f-e00aa3d4a685",
   "metadata": {
    "tags": []
   },
   "source": [
    "## Example 6"
   ]
  },
  {
   "cell_type": "code",
   "execution_count": null,
   "id": "3ab146ee-f52a-4d7a-b902-9610f3d3e55e",
   "metadata": {
    "tags": []
   },
   "outputs": [],
   "source": [
    "%%time\n",
    "query = \"Does the gender of a child have an impact on the reading capabilities of 4th graders? Base your answer on the findings of the PIRLS 2021 study.\"\n",
    "answer = crew.run(query)\n",
    "\n",
    "display(Markdown(answer))"
   ]
  },
  {
   "cell_type": "markdown",
   "id": "51a2616e-77ff-4f8c-9ffc-8c7be6dbca54",
   "metadata": {
    "tags": []
   },
   "source": [
    "## Example 7"
   ]
  },
  {
   "cell_type": "code",
   "execution_count": null,
   "id": "667ba3ae-5870-4230-9ed7-83b189586cfe",
   "metadata": {
    "tags": []
   },
   "outputs": [],
   "source": [
    "%%time\n",
    "query = \"When looking at the PIRLS 2021 study I found that there are big differences in the reading capabilities between students of different countries and regions. What are the main drivers behind this?\"\n",
    "answer = crew.run(query)\n",
    "\n",
    "\n",
    "\n",
    "display(Markdown(answer))"
   ]
  },
  {
   "cell_type": "markdown",
   "id": "c773d1de-5588-452e-be70-7109d375fdde",
   "metadata": {},
   "source": [
    "## Example 8"
   ]
  },
  {
   "cell_type": "code",
   "execution_count": null,
   "id": "81903848-6828-4598-8850-198f7ee0cca3",
   "metadata": {
    "tags": []
   },
   "outputs": [],
   "source": [
    "%%time\n",
    "query = \"What is the global trend in fourth grade reading achievement as revealed by the PIRLS 2021 results?\"\n",
    "answer = crew.run(query)\n",
    "\n",
    "display(Markdown(answer))\n"
   ]
  }
 ],
 "metadata": {
  "kernelspec": {
   "display_name": "conda_pytorch_p310",
   "language": "python",
   "name": "conda_pytorch_p310"
  },
  "language_info": {
   "codemirror_mode": {
    "name": "ipython",
    "version": 3
   },
   "file_extension": ".py",
   "mimetype": "text/x-python",
   "name": "python",
   "nbconvert_exporter": "python",
   "pygments_lexer": "ipython3",
   "version": "3.10.14"
  }
 },
 "nbformat": 4,
 "nbformat_minor": 5
}
